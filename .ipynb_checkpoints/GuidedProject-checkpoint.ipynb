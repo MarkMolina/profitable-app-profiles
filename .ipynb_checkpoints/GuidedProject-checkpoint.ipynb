{
 "cells": [
  {
   "cell_type": "markdown",
   "id": "2edb7116",
   "metadata": {},
   "source": [
    "# Title\n",
    "\n",
    "This is the goal of this project"
   ]
  },
  {
   "cell_type": "markdown",
   "id": "df947403",
   "metadata": {},
   "source": [
    "## Define global methods"
   ]
  },
  {
   "cell_type": "markdown",
   "id": "f306c6fb",
   "metadata": {},
   "source": [
    "### openFile()\n",
    "Return a list from a csv file from the provided path"
   ]
  },
  {
   "cell_type": "code",
   "execution_count": 75,
   "id": "572f81bd",
   "metadata": {},
   "outputs": [],
   "source": [
    "def openFile(withPath):\n",
    "    \n",
    "    openedFile = open(withPath)\n",
    "\n",
    "    from csv import reader\n",
    "    readFile = reader(openedFile)\n",
    "    return list(readFile)"
   ]
  },
  {
   "cell_type": "markdown",
   "id": "477b6b19",
   "metadata": {},
   "source": [
    "### exploreData()\n",
    "Use this method to explore the dataset and optionally print the # rows and columns."
   ]
  },
  {
   "cell_type": "code",
   "execution_count": 98,
   "id": "f0bd58de",
   "metadata": {},
   "outputs": [],
   "source": [
    "def exploreData(dataset, start, end, rowsAndColumns=False):\n",
    "    \n",
    "    datasetSlice = dataset[start:end]    \n",
    "    \n",
    "    for row in datasetSlice:\n",
    "        print(row)\n",
    "        print('\\n') # adds a new (empty) line after each row\n",
    "\n",
    "    if rowsAndColumns:\n",
    "        print('Number of rows:', len(dataset))\n",
    "        print('Number of columns:', len(dataset[0]))"
   ]
  },
  {
   "cell_type": "markdown",
   "id": "fb594ff0",
   "metadata": {},
   "source": [
    "### findDuplicates()\n",
    "Find duplicates in the given dataset. The method determines a duplicate based on the app name and therefore requires a dataset with app names and its index."
   ]
  },
  {
   "cell_type": "code",
   "execution_count": 115,
   "id": "50046363",
   "metadata": {},
   "outputs": [],
   "source": [
    "def findDuplicates(inDataset, appNameIndex):\n",
    "    \n",
    "    print(\"Finding duplicates and printing the first rows if applicable\")\n",
    "    \n",
    "    uniqueApps = []\n",
    "    duplicateApps = []\n",
    "\n",
    "    for row in inDataset:\n",
    "        appName = row[appNameIndex]\n",
    "\n",
    "        if appName in uniqueApps:\n",
    "            duplicateApps.append(row)\n",
    "        else:\n",
    "            uniqueApps.append(appName)\n",
    "        \n",
    "    \n",
    "    if len(duplicateApps) > 3:\n",
    "        \n",
    "        for x in range(3):\n",
    "            print(duplicateApps[x])\n",
    "            print(\"---\")\n",
    "    else:\n",
    "        \n",
    "        for row in duplicateApps:\n",
    "            print(row)\n",
    "            print(\"---\")\n",
    "    \n",
    "    print(\"Out of \" + str(len(uniqueApps)) + \" apps\")\n",
    "    print(\"We found \" + str(len(duplicateApps)) + \" duplicates\")"
   ]
  },
  {
   "cell_type": "markdown",
   "id": "54dc5593",
   "metadata": {},
   "source": [
    "### dictionaryWithAppnamesAndReviewsCount()\n",
    "This methode generates a dictionary with application names as key and the total amount of reviews as value.\n",
    "To do this it requires the index from the dataset for each parameter.\n",
    "\n",
    "```\n",
    "{\n",
    "    appname_1_string : review_amount_x_integer,\n",
    "    appname_2_string : review_amount_x_integer,\n",
    "    ...\n",
    "}\n",
    "```"
   ]
  },
  {
   "cell_type": "code",
   "execution_count": 77,
   "id": "aa4c350a",
   "metadata": {},
   "outputs": [],
   "source": [
    "def dictionaryWithAppnamesAndReviewsCount(fromDataset, appNameIndex, reviewsCountIndex):\n",
    "    \n",
    "    dictionary = {}\n",
    "    \n",
    "    for row in fromDataset:\n",
    "    \n",
    "        appName = row[appNameIndex]\n",
    "        reviewsCount = int(row[reviewsCountIndex])\n",
    "        \n",
    "        if appName not in dictionary:\n",
    "            dictionary[appName] = reviewsCount\n",
    "        elif appName in dictionary and dictionary[appName] < reviewsCount:\n",
    "            dictionary[appName] = reviewsCount\n",
    "            \n",
    "    return dictionary"
   ]
  },
  {
   "cell_type": "markdown",
   "id": "61ce003d",
   "metadata": {},
   "source": [
    "### generateCleanDataset()\n",
    "Recreate a new dataset from an existing dataset. \n",
    "\n",
    "Internally calls dictionaryWithAppnamesAndReviewsCount() to have a reference of highest number of reviews for each app. This is used as a criteria to remove duplicate data where we keep the row with the highest count."
   ]
  },
  {
   "cell_type": "code",
   "execution_count": 78,
   "id": "7336e8bb",
   "metadata": {},
   "outputs": [],
   "source": [
    "def generateCleanDataset(fromDataset, appNameIndex, reviewsCountIndex):\n",
    "    \n",
    "    cleanDataset = []\n",
    "    alreadyAdded = []\n",
    "    maxReviewDictionary = dictionaryWithAppnamesAndReviewsCount(fromDataset, appNameIndex, reviewsCountIndex)\n",
    "    \n",
    "    for row in fromDataset:\n",
    "        \n",
    "        appName = row[appNameIndex]\n",
    "        reviewsCount = int(row[reviewsCountIndex])\n",
    "    \n",
    "        if appName not in alreadyAdded and reviewsCount == maxReviewDictionary[appName]:\n",
    "            cleanDataset.append(row)\n",
    "            alreadyAdded.append(appName)\n",
    "            \n",
    "    return cleanDataset"
   ]
  },
  {
   "cell_type": "markdown",
   "id": "ee307141",
   "metadata": {},
   "source": [
    "## Apple Store\n",
    "\n",
    "A section exploring the Apple Store dataset. We print a few rows and and columns."
   ]
  },
  {
   "cell_type": "code",
   "execution_count": 79,
   "id": "ab2c890c",
   "metadata": {},
   "outputs": [],
   "source": [
    "appleStoreData = openFile(\"datasets/AppleStore.csv\")"
   ]
  },
  {
   "cell_type": "markdown",
   "id": "07f259d8",
   "metadata": {},
   "source": [
    "### Printing the first 2 rows (without header)"
   ]
  },
  {
   "cell_type": "code",
   "execution_count": 80,
   "id": "dd99e38f",
   "metadata": {},
   "outputs": [
    {
     "name": "stdout",
     "output_type": "stream",
     "text": [
      "['1', '281656475', 'PAC-MAN Premium', '100788224', 'USD', '3.99', '21292', '26', '4', '4.5', '6.3.5', '4+', 'Games', '38', '5', '10', '1']\n",
      "\n",
      "\n",
      "['2', '281796108', 'Evernote - stay organized', '158578688', 'USD', '0', '161065', '26', '4', '3.5', '8.2.2', '4+', 'Productivity', '37', '5', '23', '1']\n",
      "\n",
      "\n",
      "Number of rows: 7197\n",
      "Number of columns: 17\n"
     ]
    }
   ],
   "source": [
    "exploreData(appleStoreData[1:], 0, 2, True)"
   ]
  },
  {
   "cell_type": "markdown",
   "id": "00270ba7",
   "metadata": {},
   "source": [
    "### All column names for the Apple Store dataset\n",
    "doc: https://www.kaggle.com/ramamet4/app-store-apple-data-set-10k-apps"
   ]
  },
  {
   "cell_type": "code",
   "execution_count": 81,
   "id": "72ce1858",
   "metadata": {},
   "outputs": [
    {
     "name": "stdout",
     "output_type": "stream",
     "text": [
      "['', 'id', 'track_name', 'size_bytes', 'currency', 'price', 'rating_count_tot', 'rating_count_ver', 'user_rating', 'user_rating_ver', 'ver', 'cont_rating', 'prime_genre', 'sup_devices.num', 'ipadSc_urls.num', 'lang.num', 'vpp_lic']\n"
     ]
    }
   ],
   "source": [
    "for column in appleStoreData[0:1]:\n",
    "    print(column)"
   ]
  },
  {
   "cell_type": "markdown",
   "id": "49b223a2",
   "metadata": {},
   "source": [
    "## Google Play Store\n",
    "\n",
    "A section exploring the Google Play dataset. We print a few rows and and columns.\n",
    "\n",
    "We also remove the duplicate applications from the dataset and recreate a new dataset with unique apps."
   ]
  },
  {
   "cell_type": "code",
   "execution_count": 82,
   "id": "bbe3c49c",
   "metadata": {},
   "outputs": [],
   "source": [
    "googlePlayStoreData = openFile(\"datasets/GooglePlayStore.csv\")"
   ]
  },
  {
   "cell_type": "markdown",
   "id": "5d2834f0",
   "metadata": {},
   "source": [
    "### Printing the first 3 rows (without header)"
   ]
  },
  {
   "cell_type": "code",
   "execution_count": 83,
   "id": "24fd7d6c",
   "metadata": {},
   "outputs": [
    {
     "name": "stdout",
     "output_type": "stream",
     "text": [
      "['Photo Editor & Candy Camera & Grid & ScrapBook', 'ART_AND_DESIGN', '4.1', '159', '19M', '10,000+', 'Free', '0', 'Everyone', 'Art & Design', 'January 7, 2018', '1.0.0', '4.0.3 and up']\n",
      "\n",
      "\n",
      "['Coloring book moana', 'ART_AND_DESIGN', '3.9', '967', '14M', '500,000+', 'Free', '0', 'Everyone', 'Art & Design;Pretend Play', 'January 15, 2018', '2.0.0', '4.0.3 and up']\n",
      "\n",
      "\n",
      "['U Launcher Lite – FREE Live Cool Themes, Hide Apps', 'ART_AND_DESIGN', '4.7', '87510', '8.7M', '5,000,000+', 'Free', '0', 'Everyone', 'Art & Design', 'August 1, 2018', '1.2.4', '4.0.3 and up']\n",
      "\n",
      "\n",
      "Number of rows: 10841\n",
      "Number of columns: 13\n"
     ]
    }
   ],
   "source": [
    "exploreData(googlePlayStoreData[1:], 0, 3, True)"
   ]
  },
  {
   "cell_type": "markdown",
   "id": "6e392935",
   "metadata": {},
   "source": [
    "### All column names for the Google Play Store dataset\n",
    "\n",
    "doc: https://www.kaggle.com/datasets/lava18/google-play-store-apps"
   ]
  },
  {
   "cell_type": "code",
   "execution_count": 84,
   "id": "4297cbc4",
   "metadata": {},
   "outputs": [
    {
     "name": "stdout",
     "output_type": "stream",
     "text": [
      "['App', 'Category', 'Rating', 'Reviews', 'Size', 'Installs', 'Type', 'Price', 'Content Rating', 'Genres', 'Last Updated', 'Current Ver', 'Android Ver']\n"
     ]
    }
   ],
   "source": [
    "for column in googlePlayStoreData[0:1]:\n",
    "    print(column)"
   ]
  },
  {
   "cell_type": "markdown",
   "id": "26299296",
   "metadata": {},
   "source": [
    "### Incorrect row detected. Removing 10473 (with header)"
   ]
  },
  {
   "cell_type": "code",
   "execution_count": 85,
   "id": "ee8dda2f",
   "metadata": {},
   "outputs": [
    {
     "name": "stdout",
     "output_type": "stream",
     "text": [
      "['Life Made WI-Fi Touchscreen Photo Frame', '1.9', '19', '3.0M', '1,000+', 'Free', '0', 'Everyone', '', 'February 11, 2018', '1.0.19', '4.0 and up']\n"
     ]
    }
   ],
   "source": [
    "print(googlePlayStoreData[10473])\n",
    "del googlePlayStoreData[10473]"
   ]
  },
  {
   "cell_type": "markdown",
   "id": "573cca8a",
   "metadata": {},
   "source": [
    "### Search for duplicate application entries"
   ]
  },
  {
   "cell_type": "code",
   "execution_count": 116,
   "id": "774391df",
   "metadata": {},
   "outputs": [
    {
     "name": "stdout",
     "output_type": "stream",
     "text": [
      "Finding duplicates and printing the first rows if applicable\n",
      "['Quick PDF Scanner + OCR FREE', 'BUSINESS', '4.2', '80805', 'Varies with device', '5,000,000+', 'Free', '0', 'Everyone', 'Business', 'February 26, 2018', 'Varies with device', '4.0.3 and up']\n",
      "---\n",
      "['Box', 'BUSINESS', '4.2', '159872', 'Varies with device', '10,000,000+', 'Free', '0', 'Everyone', 'Business', 'July 31, 2018', 'Varies with device', 'Varies with device']\n",
      "---\n",
      "['Google My Business', 'BUSINESS', '4.4', '70991', 'Varies with device', '5,000,000+', 'Free', '0', 'Everyone', 'Business', 'July 24, 2018', '2.19.0.204537701', '4.4 and up']\n",
      "---\n",
      "Out of 9659 apps\n",
      "We found 1181 duplicates\n"
     ]
    }
   ],
   "source": [
    "findDuplicates(googlePlayStoreData[1:], 0)"
   ]
  },
  {
   "cell_type": "markdown",
   "id": "959b6136",
   "metadata": {},
   "source": [
    "### Example of a duplicate application - Google My Business"
   ]
  },
  {
   "cell_type": "code",
   "execution_count": 117,
   "id": "f20417df",
   "metadata": {
    "scrolled": true
   },
   "outputs": [
    {
     "name": "stdout",
     "output_type": "stream",
     "text": [
      "['Google My Business', 'BUSINESS', '4.4', '70991', 'Varies with device', '5,000,000+', 'Free', '0', 'Everyone', 'Business', 'July 24, 2018', '2.19.0.204537701', '4.4 and up']\n",
      "['Google My Business', 'BUSINESS', '4.4', '70991', 'Varies with device', '5,000,000+', 'Free', '0', 'Everyone', 'Business', 'July 24, 2018', '2.19.0.204537701', '4.4 and up']\n",
      "['Google My Business', 'BUSINESS', '4.4', '70991', 'Varies with device', '5,000,000+', 'Free', '0', 'Everyone', 'Business', 'July 24, 2018', '2.19.0.204537701', '4.4 and up']\n"
     ]
    }
   ],
   "source": [
    "for row in googlePlayStoreData:\n",
    "    appName = row[0]\n",
    "    \n",
    "    if appName == \"Google My Business\":\n",
    "        print(row)"
   ]
  },
  {
   "cell_type": "markdown",
   "id": "b30c59f2",
   "metadata": {},
   "source": [
    "### Removing the duplicate applications\n",
    "\n",
    "Index 3 displays the review count. We will use this integer to determine which row we want to keep. The highest count should point to the most recent data.\n",
    "\n",
    "We store our clean dataset in a new list (`cleanGoogleDataset`)."
   ]
  },
  {
   "cell_type": "code",
   "execution_count": 93,
   "id": "5afae4b7",
   "metadata": {},
   "outputs": [],
   "source": [
    "cleanGoogleDataset = generateCleanDataset(fromDataset=googlePlayStoreData[1:], appNameIndex=0, reviewsCountIndex=3)"
   ]
  },
  {
   "cell_type": "markdown",
   "id": "115341d8",
   "metadata": {},
   "source": [
    "Loop through the original dataset again and only append to the clean data set if\n",
    "\n",
    "1. application is not added yet\n",
    "<br/>`if name not in alreadyAdded`\n",
    "\n",
    "2. we only use the row with the highest count for that app\n",
    "<br/>`reviewsCount == reviewsMax[name]`"
   ]
  },
  {
   "cell_type": "markdown",
   "id": "292671fa",
   "metadata": {},
   "source": [
    "### Check for duplicates in the Apple Store dataset"
   ]
  },
  {
   "cell_type": "code",
   "execution_count": 118,
   "id": "2a0a4371",
   "metadata": {},
   "outputs": [
    {
     "name": "stdout",
     "output_type": "stream",
     "text": [
      "Finding duplicates and printing the first rows if applicable\n",
      "['7579', '1089824278', 'VR Roller Coaster', '240964608', 'USD', '0', '67', '44', '3.5', '4', '0.81', '4+', 'Games', '38', '0', '1', '1']\n",
      "---\n",
      "['10885', '1178454060', 'Mannequin Challenge', '59572224', 'USD', '0', '105', '58', '4', '4.5', '1.0.1', '4+', 'Games', '38', '5', '1', '1']\n",
      "---\n",
      "Out of 7195 apps\n",
      "We found 2 duplicates\n"
     ]
    }
   ],
   "source": [
    "findDuplicates(appleStoreData[1:], 2)"
   ]
  },
  {
   "cell_type": "markdown",
   "id": "fc84a9ca",
   "metadata": {},
   "source": [
    "### Removing duplicates again\n",
    "We use the same criteria and select the row with the highest review count.\n",
    "\n",
    "```\n",
    "app name index = 2\n",
    "reviews count index = 6\n",
    "```"
   ]
  },
  {
   "cell_type": "code",
   "execution_count": 96,
   "id": "981fb3a9",
   "metadata": {},
   "outputs": [
    {
     "name": "stdout",
     "output_type": "stream",
     "text": [
      "7195\n"
     ]
    }
   ],
   "source": [
    "cleanAppleStoreDataset = generateCleanDataset(fromDataset=appleStoreData[1:], appNameIndex=2, reviewsCountIndex=6)"
   ]
  }
 ],
 "metadata": {
  "kernelspec": {
   "display_name": "Python 3 (ipykernel)",
   "language": "python",
   "name": "python3"
  },
  "language_info": {
   "codemirror_mode": {
    "name": "ipython",
    "version": 3
   },
   "file_extension": ".py",
   "mimetype": "text/x-python",
   "name": "python",
   "nbconvert_exporter": "python",
   "pygments_lexer": "ipython3",
   "version": "3.9.13"
  }
 },
 "nbformat": 4,
 "nbformat_minor": 5
}
