{
 "cells": [
  {
   "cell_type": "markdown",
   "id": "2edb7116",
   "metadata": {},
   "source": [
    "# Profitable App Profiles for the App Store and Google Play Markets\n",
    "\n",
    "Our goal is to determine the kind of apps that are likely to attract more users. This is important because our revenue is driven through in-app purchases.\n",
    "\n",
    "To minimize risks and overhead, our validation strategy for an app idea has three steps:\n",
    "\n",
    "1. Build a minimal Android version of the app, and add it to Google Play.\n",
    "\n",
    "2. If the app has a good response from users, we develop it further.\n",
    "\n",
    "3. If the app is profitable after six months, we build an iOS version of the app and add it to the App Store.\n",
    "\n",
    "Because our end goal is to add the app on both Google Play and the App Store, we need to find app profiles that are successful in both markets. For instance, a profile that works well for both markets might be a productivity app that makes use of gamification.\n",
    "\n"
   ]
  },
  {
   "cell_type": "markdown",
   "id": "f5793802",
   "metadata": {},
   "source": [
    "## Opening and Exploring the Data\n",
    "As of September 2018, there were approximately 2 million iOS apps available on the App Store, and 2.1 million Android apps on Google Play.\n",
    "\n",
    "![img](https://s3.amazonaws.com/dq-content/350/py1m8_statista.png) Source: [Statista](https://www.statista.com/statistics/276623/number-of-apps-available-in-leading-app-stores/)\n",
    "Collecting data for over four million apps requires a significant amount of time and money, so we'll try to analyze a sample of data instead. To avoid spending resources with collecting new data ourselves, we should first try to see whether we can find any relevant existing data at no cost. Luckily, these are two data sets that seem suitable for our purpose:\n",
    "\n",
    "* A [dataset](https://www.kaggle.com/lava18/google-play-store-apps) containing data about approximately ten thousand Android apps from Google Play. You can download the data set directly from [this link](https://dq-content.s3.amazonaws.com/350/googleplaystore.csv).\n",
    "* A [dataset](https://www.kaggle.com/ramamet4/app-store-apple-data-set-10k-apps) containing data about approximately seven thousand iOS apps from the App Store. You can download the data set directly from [this link](https://dq-content.s3.amazonaws.com/350/AppleStore.csv)."
   ]
  },
  {
   "cell_type": "markdown",
   "id": "df947403",
   "metadata": {},
   "source": [
    "## Define global methods"
   ]
  },
  {
   "cell_type": "markdown",
   "id": "ede0cc2b",
   "metadata": {},
   "source": [
    "### openFile()\n",
    "Return a list from a csv file from the provided path"
   ]
  },
  {
   "cell_type": "code",
   "execution_count": 2,
   "id": "38c92554",
   "metadata": {},
   "outputs": [],
   "source": [
    "def openFile(withPath):\n",
    "    \n",
    "    openedFile = open(withPath)\n",
    "\n",
    "    from csv import reader\n",
    "    readFile = reader(openedFile)\n",
    "    return list(readFile)"
   ]
  },
  {
   "cell_type": "markdown",
   "id": "477b6b19",
   "metadata": {},
   "source": [
    "### exploreData()\n",
    "Use this method to explore the dataset and optionally print the # rows and columns."
   ]
  },
  {
   "cell_type": "code",
   "execution_count": 3,
   "id": "f0bd58de",
   "metadata": {},
   "outputs": [],
   "source": [
    "def exploreData(dataset, start, end, rowsAndColumns=False):\n",
    "    \n",
    "    datasetSlice = dataset[start:end]    \n",
    "    \n",
    "    for row in datasetSlice:\n",
    "        print(row)\n",
    "        print('\\n') # adds a new (empty) line after each row\n",
    "\n",
    "    if rowsAndColumns:\n",
    "        print('Number of rows:', len(dataset))\n",
    "        print('Number of columns:', len(dataset[0]))"
   ]
  },
  {
   "cell_type": "markdown",
   "id": "eb8d1d1c",
   "metadata": {},
   "source": [
    "### findDuplicates()\n",
    "Find duplicates in the given dataset. The method determines a duplicate based on the app name and therefore requires a dataset with app names and its index."
   ]
  },
  {
   "cell_type": "code",
   "execution_count": 4,
   "id": "06dfe1d4",
   "metadata": {},
   "outputs": [],
   "source": [
    "def findDuplicates(inDataset, appNameIndex):\n",
    "    \n",
    "    print(\"Finding duplicates and printing the first rows if applicable\")\n",
    "    \n",
    "    uniqueApps = []\n",
    "    duplicateApps = []\n",
    "\n",
    "    for row in inDataset:\n",
    "        appName = row[appNameIndex]\n",
    "\n",
    "        if appName in uniqueApps:\n",
    "            duplicateApps.append(row)\n",
    "        else:\n",
    "            uniqueApps.append(appName)\n",
    "        \n",
    "    \n",
    "    if len(duplicateApps) > 3:\n",
    "        \n",
    "        for x in range(3):\n",
    "            print(duplicateApps[x])\n",
    "            print(\"---\")\n",
    "    else:\n",
    "        \n",
    "        for row in duplicateApps:\n",
    "            print(row)\n",
    "            print(\"---\")\n",
    "    \n",
    "    print(\"Out of \" + str(len(uniqueApps)) + \" apps\")\n",
    "    print(\"We found \" + str(len(duplicateApps)) + \" duplicates\")"
   ]
  },
  {
   "cell_type": "markdown",
   "id": "54dc5593",
   "metadata": {},
   "source": [
    "### dictionaryWithAppnamesAndReviewsCount()\n",
    "This methode generates a dictionary with application names as key and the total amount of reviews as value.\n",
    "To do this it requires the index from the dataset for each parameter.\n",
    "\n",
    "```\n",
    "{\n",
    "    appname_1_string : review_amount_x_integer,\n",
    "    appname_2_string : review_amount_x_integer,\n",
    "    ...\n",
    "}\n",
    "```"
   ]
  },
  {
   "cell_type": "code",
   "execution_count": 5,
   "id": "aa4c350a",
   "metadata": {},
   "outputs": [],
   "source": [
    "def dictionaryWithAppnamesAndReviewsCount(fromDataset, appNameIndex, reviewsCountIndex):\n",
    "    \n",
    "    dictionary = {}\n",
    "    \n",
    "    for row in fromDataset:\n",
    "    \n",
    "        appName = row[appNameIndex]\n",
    "        reviewsCount = int(row[reviewsCountIndex])\n",
    "        \n",
    "        if appName not in dictionary:\n",
    "            dictionary[appName] = reviewsCount\n",
    "        elif appName in dictionary and dictionary[appName] < reviewsCount:\n",
    "            dictionary[appName] = reviewsCount\n",
    "            \n",
    "    return dictionary"
   ]
  },
  {
   "cell_type": "markdown",
   "id": "61ce003d",
   "metadata": {},
   "source": [
    "### generateCleanDataset()\n",
    "Recreate a new dataset from an existing dataset. \n",
    "\n",
    "Internally calls dictionaryWithAppnamesAndReviewsCount() to have a reference of highest number of reviews for each app. This is used as a criteria to remove duplicate data where we keep the row with the highest count."
   ]
  },
  {
   "cell_type": "code",
   "execution_count": 6,
   "id": "7336e8bb",
   "metadata": {},
   "outputs": [],
   "source": [
    "def generateCleanDataset(fromDataset, appNameIndex, reviewsCountIndex):\n",
    "    \n",
    "    cleanDataset = []\n",
    "    alreadyAdded = []\n",
    "    maxReviewDictionary = dictionaryWithAppnamesAndReviewsCount(fromDataset, appNameIndex, reviewsCountIndex)\n",
    "    \n",
    "    for row in fromDataset:\n",
    "        \n",
    "        appName = row[appNameIndex]\n",
    "        reviewsCount = int(row[reviewsCountIndex])\n",
    "    \n",
    "        if appName not in alreadyAdded and reviewsCount == maxReviewDictionary[appName]:\n",
    "            cleanDataset.append(row)\n",
    "            alreadyAdded.append(appName)\n",
    "            \n",
    "    return cleanDataset"
   ]
  },
  {
   "cell_type": "markdown",
   "id": "759ed8d4",
   "metadata": {},
   "source": [
    "### isEnglish()\n",
    "returns True if the provided string doesn't contain more than 3 foreign characters. This is based on the ASCII code."
   ]
  },
  {
   "cell_type": "code",
   "execution_count": 7,
   "id": "69cfcbfd",
   "metadata": {},
   "outputs": [],
   "source": [
    "def isEnglish(string):\n",
    "    \n",
    "    foreignASCIIcount = 0\n",
    "    \n",
    "    for c in string:\n",
    "        \n",
    "        if ord(c) > 127:\n",
    "            \n",
    "            foreignASCIIcount += 1\n",
    "            if foreignASCIIcount > 3:\n",
    "                return False\n",
    "    \n",
    "    return True"
   ]
  },
  {
   "cell_type": "markdown",
   "id": "aaa5aaae",
   "metadata": {},
   "source": [
    "### frequencyTable()\n",
    "Generate a frequency table that showcases number of genres for each application."
   ]
  },
  {
   "cell_type": "code",
   "execution_count": 8,
   "id": "093be078",
   "metadata": {},
   "outputs": [],
   "source": [
    "def frequencyTable(fromDataset, genreIndex):\n",
    "    \n",
    "    dictionary = {}\n",
    "    \n",
    "    for row in fromDataset:\n",
    "    \n",
    "        genre = row[genreIndex]\n",
    "        \n",
    "        if genre in dictionary:\n",
    "            dictionary[genre] += 1\n",
    "        else:\n",
    "            dictionary[genre] = 1\n",
    "            \n",
    "    return dictionary"
   ]
  },
  {
   "cell_type": "markdown",
   "id": "38d365b7",
   "metadata": {},
   "source": [
    "### displayTable()\n",
    "Converts a frequency table (dictionary) to a list of tuples. This way we can use the sorted() method to display the values."
   ]
  },
  {
   "cell_type": "code",
   "execution_count": 9,
   "id": "e25ec844",
   "metadata": {},
   "outputs": [],
   "source": [
    "def displayTable(fromDataset, index):\n",
    "    \n",
    "    table = frequencyTable(fromDataset, index)\n",
    "    tableDisplay = []\n",
    "    \n",
    "    for key in table:\n",
    "        keyAsTuple = (table[key], key)\n",
    "        tableDisplay.append(keyAsTuple)\n",
    "\n",
    "    tableSorted = sorted(tableDisplay, reverse = True)\n",
    "    for entry in tableSorted:\n",
    "        print(entry[1], ':', entry[0])"
   ]
  },
  {
   "cell_type": "markdown",
   "id": "ee307141",
   "metadata": {},
   "source": [
    "## Apple Store\n",
    "\n",
    "A section exploring the Apple Store dataset. We print a few rows and and columns."
   ]
  },
  {
   "cell_type": "code",
   "execution_count": 10,
   "id": "ab2c890c",
   "metadata": {},
   "outputs": [],
   "source": [
    "appleStoreData = openFile(\"datasets/AppleStore.csv\")"
   ]
  },
  {
   "cell_type": "markdown",
   "id": "07f259d8",
   "metadata": {},
   "source": [
    "### Printing the first 2 rows (without header)"
   ]
  },
  {
   "cell_type": "code",
   "execution_count": 11,
   "id": "dd99e38f",
   "metadata": {},
   "outputs": [
    {
     "name": "stdout",
     "output_type": "stream",
     "text": [
      "['1', '281656475', 'PAC-MAN Premium', '100788224', 'USD', '3.99', '21292', '26', '4', '4.5', '6.3.5', '4+', 'Games', '38', '5', '10', '1']\n",
      "\n",
      "\n",
      "['2', '281796108', 'Evernote - stay organized', '158578688', 'USD', '0', '161065', '26', '4', '3.5', '8.2.2', '4+', 'Productivity', '37', '5', '23', '1']\n",
      "\n",
      "\n",
      "Number of rows: 7197\n",
      "Number of columns: 17\n"
     ]
    }
   ],
   "source": [
    "exploreData(appleStoreData[1:], 0, 2, True)"
   ]
  },
  {
   "cell_type": "markdown",
   "id": "00270ba7",
   "metadata": {},
   "source": [
    "### All column names for the Apple Store dataset\n",
    "doc: https://www.kaggle.com/ramamet4/app-store-apple-data-set-10k-apps"
   ]
  },
  {
   "cell_type": "code",
   "execution_count": 12,
   "id": "72ce1858",
   "metadata": {},
   "outputs": [
    {
     "name": "stdout",
     "output_type": "stream",
     "text": [
      "['', 'id', 'track_name', 'size_bytes', 'currency', 'price', 'rating_count_tot', 'rating_count_ver', 'user_rating', 'user_rating_ver', 'ver', 'cont_rating', 'prime_genre', 'sup_devices.num', 'ipadSc_urls.num', 'lang.num', 'vpp_lic']\n"
     ]
    }
   ],
   "source": [
    "for column in appleStoreData[0:1]:\n",
    "    print(column)"
   ]
  },
  {
   "cell_type": "markdown",
   "id": "49b223a2",
   "metadata": {},
   "source": [
    "## Google Play Store\n",
    "\n",
    "A section exploring the Google Play dataset. We print a few rows and and columns.\n",
    "\n",
    "We also remove the duplicate applications from the dataset and recreate a new dataset with unique apps."
   ]
  },
  {
   "cell_type": "code",
   "execution_count": 13,
   "id": "bbe3c49c",
   "metadata": {},
   "outputs": [],
   "source": [
    "googlePlayStoreData = openFile(\"datasets/GooglePlayStore.csv\")"
   ]
  },
  {
   "cell_type": "markdown",
   "id": "5d2834f0",
   "metadata": {},
   "source": [
    "### Printing the first 3 rows (without header)"
   ]
  },
  {
   "cell_type": "code",
   "execution_count": 14,
   "id": "24fd7d6c",
   "metadata": {},
   "outputs": [
    {
     "name": "stdout",
     "output_type": "stream",
     "text": [
      "['Photo Editor & Candy Camera & Grid & ScrapBook', 'ART_AND_DESIGN', '4.1', '159', '19M', '10,000+', 'Free', '0', 'Everyone', 'Art & Design', 'January 7, 2018', '1.0.0', '4.0.3 and up']\n",
      "\n",
      "\n",
      "['Coloring book moana', 'ART_AND_DESIGN', '3.9', '967', '14M', '500,000+', 'Free', '0', 'Everyone', 'Art & Design;Pretend Play', 'January 15, 2018', '2.0.0', '4.0.3 and up']\n",
      "\n",
      "\n",
      "['U Launcher Lite – FREE Live Cool Themes, Hide Apps', 'ART_AND_DESIGN', '4.7', '87510', '8.7M', '5,000,000+', 'Free', '0', 'Everyone', 'Art & Design', 'August 1, 2018', '1.2.4', '4.0.3 and up']\n",
      "\n",
      "\n",
      "Number of rows: 10841\n",
      "Number of columns: 13\n"
     ]
    }
   ],
   "source": [
    "exploreData(googlePlayStoreData[1:], 0, 3, True)"
   ]
  },
  {
   "cell_type": "markdown",
   "id": "6e392935",
   "metadata": {},
   "source": [
    "### All column names for the Google Play Store dataset\n",
    "\n",
    "doc: https://www.kaggle.com/datasets/lava18/google-play-store-apps"
   ]
  },
  {
   "cell_type": "code",
   "execution_count": 15,
   "id": "4297cbc4",
   "metadata": {},
   "outputs": [
    {
     "name": "stdout",
     "output_type": "stream",
     "text": [
      "['App', 'Category', 'Rating', 'Reviews', 'Size', 'Installs', 'Type', 'Price', 'Content Rating', 'Genres', 'Last Updated', 'Current Ver', 'Android Ver']\n"
     ]
    }
   ],
   "source": [
    "for column in googlePlayStoreData[0:1]:\n",
    "    print(column)"
   ]
  },
  {
   "cell_type": "markdown",
   "id": "26299296",
   "metadata": {},
   "source": [
    "## Cleanup datasets\n",
    "\n",
    "* Remove inaccurate data\n",
    "* Remove duplicates\n",
    "* Filter out non-English names\n",
    "* Isolate free apps"
   ]
  },
  {
   "cell_type": "markdown",
   "id": "92c23bde",
   "metadata": {},
   "source": [
    "### Remove inaccurate data\n",
    "\n",
    "#### Removing 10473 (with header) due to 3.0M value not being an float"
   ]
  },
  {
   "cell_type": "code",
   "execution_count": 16,
   "id": "ee8dda2f",
   "metadata": {},
   "outputs": [
    {
     "name": "stdout",
     "output_type": "stream",
     "text": [
      "['Life Made WI-Fi Touchscreen Photo Frame', '1.9', '19', '3.0M', '1,000+', 'Free', '0', 'Everyone', '', 'February 11, 2018', '1.0.19', '4.0 and up']\n"
     ]
    }
   ],
   "source": [
    "print(googlePlayStoreData[10473])\n",
    "del googlePlayStoreData[10473]"
   ]
  },
  {
   "cell_type": "markdown",
   "id": "afeb3a32",
   "metadata": {},
   "source": [
    "#### Removing x due to NaN not being either 'Free' or 'Paid'"
   ]
  },
  {
   "cell_type": "code",
   "execution_count": 17,
   "id": "150a48f6",
   "metadata": {},
   "outputs": [
    {
     "name": "stdout",
     "output_type": "stream",
     "text": [
      "['Command & Conquer: Rivals', 'FAMILY', 'NaN', '0', 'Varies with device', '0', 'NaN', '0', 'Everyone 10+', 'Strategy', 'June 28, 2018', 'Varies with device', 'Varies with device']\n"
     ]
    }
   ],
   "source": [
    "for row in googlePlayStoreData:\n",
    "    \n",
    "    if row[6] == 'NaN':\n",
    "        print(row)\n",
    "        googlePlayStoreData.remove(row)"
   ]
  },
  {
   "cell_type": "markdown",
   "id": "573cca8a",
   "metadata": {},
   "source": [
    "### Search for duplicate application entries"
   ]
  },
  {
   "cell_type": "code",
   "execution_count": 18,
   "id": "774391df",
   "metadata": {},
   "outputs": [
    {
     "name": "stdout",
     "output_type": "stream",
     "text": [
      "Finding duplicates and printing the first rows if applicable\n",
      "['Quick PDF Scanner + OCR FREE', 'BUSINESS', '4.2', '80805', 'Varies with device', '5,000,000+', 'Free', '0', 'Everyone', 'Business', 'February 26, 2018', 'Varies with device', '4.0.3 and up']\n",
      "---\n",
      "['Box', 'BUSINESS', '4.2', '159872', 'Varies with device', '10,000,000+', 'Free', '0', 'Everyone', 'Business', 'July 31, 2018', 'Varies with device', 'Varies with device']\n",
      "---\n",
      "['Google My Business', 'BUSINESS', '4.4', '70991', 'Varies with device', '5,000,000+', 'Free', '0', 'Everyone', 'Business', 'July 24, 2018', '2.19.0.204537701', '4.4 and up']\n",
      "---\n",
      "Out of 9658 apps\n",
      "We found 1181 duplicates\n"
     ]
    }
   ],
   "source": [
    "findDuplicates(googlePlayStoreData[1:], 0)"
   ]
  },
  {
   "cell_type": "markdown",
   "id": "959b6136",
   "metadata": {},
   "source": [
    "### Example of a duplicate application - Google My Business"
   ]
  },
  {
   "cell_type": "code",
   "execution_count": 19,
   "id": "f20417df",
   "metadata": {
    "scrolled": true
   },
   "outputs": [
    {
     "name": "stdout",
     "output_type": "stream",
     "text": [
      "['Google My Business', 'BUSINESS', '4.4', '70991', 'Varies with device', '5,000,000+', 'Free', '0', 'Everyone', 'Business', 'July 24, 2018', '2.19.0.204537701', '4.4 and up']\n",
      "['Google My Business', 'BUSINESS', '4.4', '70991', 'Varies with device', '5,000,000+', 'Free', '0', 'Everyone', 'Business', 'July 24, 2018', '2.19.0.204537701', '4.4 and up']\n",
      "['Google My Business', 'BUSINESS', '4.4', '70991', 'Varies with device', '5,000,000+', 'Free', '0', 'Everyone', 'Business', 'July 24, 2018', '2.19.0.204537701', '4.4 and up']\n"
     ]
    }
   ],
   "source": [
    "for row in googlePlayStoreData:\n",
    "    appName = row[0]\n",
    "    \n",
    "    if appName == \"Google My Business\":\n",
    "        print(row)"
   ]
  },
  {
   "cell_type": "markdown",
   "id": "b30c59f2",
   "metadata": {},
   "source": [
    "### Removing the duplicate applications\n",
    "\n",
    "Index 3 displays the review count. We will use this integer to determine which row we want to keep. The highest count should point to the most recent data.\n",
    "\n",
    "We store our clean dataset in a new list (`cleanGoogleDataset`)."
   ]
  },
  {
   "cell_type": "code",
   "execution_count": 20,
   "id": "5afae4b7",
   "metadata": {},
   "outputs": [],
   "source": [
    "cleanGoogleDataset = generateCleanDataset(fromDataset=googlePlayStoreData[1:], appNameIndex=0, reviewsCountIndex=3)"
   ]
  },
  {
   "cell_type": "markdown",
   "id": "115341d8",
   "metadata": {},
   "source": [
    "Loop through the original dataset again and only append to the clean data set if\n",
    "\n",
    "1. application is not added yet\n",
    "<br/>`if name not in alreadyAdded`\n",
    "\n",
    "2. we only use the row with the highest count for that app\n",
    "<br/>`reviewsCount == reviewsMax[name]`"
   ]
  },
  {
   "cell_type": "markdown",
   "id": "292671fa",
   "metadata": {},
   "source": [
    "### Check for duplicates in the Apple Store dataset"
   ]
  },
  {
   "cell_type": "code",
   "execution_count": 21,
   "id": "2a0a4371",
   "metadata": {},
   "outputs": [
    {
     "name": "stdout",
     "output_type": "stream",
     "text": [
      "Finding duplicates and printing the first rows if applicable\n",
      "['7579', '1089824278', 'VR Roller Coaster', '240964608', 'USD', '0', '67', '44', '3.5', '4', '0.81', '4+', 'Games', '38', '0', '1', '1']\n",
      "---\n",
      "['10885', '1178454060', 'Mannequin Challenge', '59572224', 'USD', '0', '105', '58', '4', '4.5', '1.0.1', '4+', 'Games', '38', '5', '1', '1']\n",
      "---\n",
      "Out of 7195 apps\n",
      "We found 2 duplicates\n"
     ]
    }
   ],
   "source": [
    "findDuplicates(appleStoreData[1:], 2)"
   ]
  },
  {
   "cell_type": "markdown",
   "id": "fc84a9ca",
   "metadata": {},
   "source": [
    "### Removing duplicates again\n",
    "We use the same criteria and select the row with the highest review count.\n",
    "\n",
    "```\n",
    "app name index = 2\n",
    "reviews count index = 6\n",
    "```"
   ]
  },
  {
   "cell_type": "code",
   "execution_count": 22,
   "id": "981fb3a9",
   "metadata": {},
   "outputs": [],
   "source": [
    "cleanAppleStoreDataset = generateCleanDataset(fromDataset=appleStoreData[1:], appNameIndex=2, reviewsCountIndex=6)"
   ]
  },
  {
   "cell_type": "markdown",
   "id": "ba86ff1d",
   "metadata": {},
   "source": [
    "### Filter non english app names"
   ]
  },
  {
   "cell_type": "code",
   "execution_count": 23,
   "id": "538944a6",
   "metadata": {},
   "outputs": [
    {
     "name": "stdout",
     "output_type": "stream",
     "text": [
      "Remaining rows: 6181\n"
     ]
    }
   ],
   "source": [
    "englishAppleStoreDataset = []\n",
    "\n",
    "for row in cleanAppleStoreDataset:\n",
    "    \n",
    "    if isEnglish(row[2]):\n",
    "        englishAppleStoreDataset.append(row)\n",
    "        \n",
    "print(\"Remaining rows: \" + str(len(englishAppleStoreDataset)))"
   ]
  },
  {
   "cell_type": "code",
   "execution_count": 24,
   "id": "5a41ed37",
   "metadata": {},
   "outputs": [
    {
     "name": "stdout",
     "output_type": "stream",
     "text": [
      "Remaining rows: 9613\n"
     ]
    }
   ],
   "source": [
    "englishGoogleStoreDataset = []\n",
    "\n",
    "for row in cleanGoogleDataset:\n",
    "    \n",
    "    if isEnglish(row[0]):\n",
    "        englishGoogleStoreDataset.append(row)\n",
    "        \n",
    "print(\"Remaining rows: \" + str(len(englishGoogleStoreDataset)))"
   ]
  },
  {
   "cell_type": "markdown",
   "id": "1f3ea691",
   "metadata": {},
   "source": [
    "### Isolate free apps"
   ]
  },
  {
   "cell_type": "code",
   "execution_count": 25,
   "id": "67704d24",
   "metadata": {},
   "outputs": [
    {
     "name": "stdout",
     "output_type": "stream",
     "text": [
      "Remaining rows: 3220\n"
     ]
    }
   ],
   "source": [
    "freeApplePlayStoreDataset = []\n",
    "\n",
    "for row in englishAppleStoreDataset:\n",
    "    \n",
    "    if row[5] == \"0\":\n",
    "        freeApplePlayStoreDataset.append(row)\n",
    "    \n",
    "print(\"Remaining rows: \" + str(len(freeApplePlayStoreDataset)))"
   ]
  },
  {
   "cell_type": "code",
   "execution_count": 26,
   "id": "1b052a52",
   "metadata": {},
   "outputs": [
    {
     "name": "stdout",
     "output_type": "stream",
     "text": [
      "Remaining rows: 8863\n"
     ]
    }
   ],
   "source": [
    "freeGoogleStoreDataset = []\n",
    "\n",
    "for row in englishGoogleStoreDataset:\n",
    "    \n",
    "    if row[6] == \"Free\":\n",
    "        freeGoogleStoreDataset.append(row)\n",
    "        \n",
    "print(\"Remaining rows: \" + str(len(freeGoogleStoreDataset)))"
   ]
  },
  {
   "cell_type": "markdown",
   "id": "379dde48",
   "metadata": {},
   "source": [
    "## Highlight the most popular categories\n",
    "\n",
    "Genre index in dataset\n",
    "\n",
    "```\n",
    "# Apple\n",
    "prime_genre = 12\n",
    "\n",
    "# Google\n",
    "category = 1\n",
    "genres = 9\n",
    "```\n",
    "\n",
    "We start by examining the frequency table for the prime_genre column of the App Store data set."
   ]
  },
  {
   "cell_type": "code",
   "execution_count": 38,
   "id": "4940ad61",
   "metadata": {},
   "outputs": [
    {
     "name": "stdout",
     "output_type": "stream",
     "text": [
      "Games : 1872\n",
      "Entertainment : 254\n",
      "Photo & Video : 160\n",
      "Education : 118\n",
      "Social Networking : 106\n",
      "Shopping : 84\n",
      "Utilities : 81\n",
      "Sports : 69\n",
      "Music : 66\n",
      "Health & Fitness : 65\n",
      "Productivity : 56\n",
      "Lifestyle : 51\n",
      "News : 43\n",
      "Travel : 40\n",
      "Finance : 36\n",
      "Weather : 28\n",
      "Food & Drink : 26\n",
      "Reference : 18\n",
      "Business : 17\n",
      "Book : 14\n",
      "Navigation : 6\n",
      "Medical : 6\n",
      "Catalogs : 4\n"
     ]
    }
   ],
   "source": [
    "displayTable(freeApplePlayStoreDataset, 12)"
   ]
  },
  {
   "cell_type": "markdown",
   "id": "7f661bc4",
   "metadata": {},
   "source": [
    "We can see that among the free English apps, more than a half (58.16%) are games. Entertainment apps are close to 8%, followed by photo and video apps, which are close to 5%. Only 3.66% of the apps are designed for education, followed by social networking apps which amount for 3.29% of the apps in our data set.\n",
    "\n",
    "The general impression is that App Store (at least the part containing free English apps) is dominated by apps that are designed for fun (games, entertainment, photo and video, social networking, sports, music, etc.), while apps with practical purposes (education, shopping, utilities, productivity, lifestyle, etc.) are more rare. However, the fact that fun apps are the most numerous doesn't also imply that they also have the greatest number of users — the demand might not be the same as the offer.\n",
    "\n",
    "Let's continue by examining the Genres and Category columns of the Google Play data set (two columns which seem to be related)."
   ]
  },
  {
   "cell_type": "code",
   "execution_count": 39,
   "id": "9d33ab6d",
   "metadata": {},
   "outputs": [
    {
     "name": "stdout",
     "output_type": "stream",
     "text": [
      "FAMILY : 1675\n",
      "GAME : 862\n",
      "TOOLS : 750\n",
      "BUSINESS : 407\n",
      "LIFESTYLE : 346\n",
      "PRODUCTIVITY : 345\n",
      "FINANCE : 328\n",
      "MEDICAL : 313\n",
      "SPORTS : 301\n",
      "PERSONALIZATION : 294\n",
      "COMMUNICATION : 287\n",
      "HEALTH_AND_FITNESS : 273\n",
      "PHOTOGRAPHY : 261\n",
      "NEWS_AND_MAGAZINES : 248\n",
      "SOCIAL : 236\n",
      "TRAVEL_AND_LOCAL : 207\n",
      "SHOPPING : 199\n",
      "BOOKS_AND_REFERENCE : 190\n",
      "DATING : 165\n",
      "VIDEO_PLAYERS : 159\n",
      "MAPS_AND_NAVIGATION : 124\n",
      "FOOD_AND_DRINK : 110\n",
      "EDUCATION : 103\n",
      "ENTERTAINMENT : 85\n",
      "LIBRARIES_AND_DEMO : 83\n",
      "AUTO_AND_VEHICLES : 82\n",
      "HOUSE_AND_HOME : 73\n",
      "WEATHER : 71\n",
      "EVENTS : 63\n",
      "PARENTING : 58\n",
      "ART_AND_DESIGN : 57\n",
      "COMICS : 55\n",
      "BEAUTY : 53\n"
     ]
    }
   ],
   "source": [
    "displayTable(freeGoogleStoreDataset, 1)"
   ]
  },
  {
   "cell_type": "markdown",
   "id": "338d5e63",
   "metadata": {},
   "source": [
    "The landscape seems significantly different on Google Play: there are not that many apps designed for fun, and it seems that a good number of apps are designed for practical purposes (family, tools, business, lifestyle, productivity, etc.). However, if we investigate this further, we can see that the family category (which accounts for almost 19% of the apps) means mostly games for kids."
   ]
  },
  {
   "cell_type": "code",
   "execution_count": 40,
   "id": "97e7db8e",
   "metadata": {},
   "outputs": [
    {
     "name": "stdout",
     "output_type": "stream",
     "text": [
      "Tools : 749\n",
      "Entertainment : 538\n",
      "Education : 474\n",
      "Business : 407\n",
      "Productivity : 345\n",
      "Lifestyle : 345\n",
      "Finance : 328\n",
      "Medical : 313\n",
      "Sports : 307\n",
      "Personalization : 294\n",
      "Communication : 287\n",
      "Action : 275\n",
      "Health & Fitness : 273\n",
      "Photography : 261\n",
      "News & Magazines : 248\n",
      "Social : 236\n",
      "Travel & Local : 206\n",
      "Shopping : 199\n",
      "Books & Reference : 190\n",
      "Simulation : 181\n",
      "Dating : 165\n",
      "Arcade : 164\n",
      "Video Players & Editors : 157\n",
      "Casual : 156\n",
      "Maps & Navigation : 124\n",
      "Food & Drink : 110\n",
      "Puzzle : 100\n",
      "Racing : 88\n",
      "Role Playing : 83\n",
      "Libraries & Demo : 83\n",
      "Auto & Vehicles : 82\n",
      "Strategy : 80\n",
      "House & Home : 73\n",
      "Weather : 71\n",
      "Events : 63\n",
      "Adventure : 60\n",
      "Comics : 54\n",
      "Beauty : 53\n",
      "Art & Design : 53\n",
      "Parenting : 44\n",
      "Card : 40\n",
      "Casino : 38\n",
      "Trivia : 37\n",
      "Educational;Education : 35\n",
      "Board : 34\n",
      "Educational : 33\n",
      "Education;Education : 30\n",
      "Word : 23\n",
      "Casual;Pretend Play : 21\n",
      "Music : 18\n",
      "Racing;Action & Adventure : 15\n",
      "Puzzle;Brain Games : 15\n",
      "Entertainment;Music & Video : 15\n",
      "Casual;Brain Games : 12\n",
      "Casual;Action & Adventure : 12\n",
      "Arcade;Action & Adventure : 11\n",
      "Action;Action & Adventure : 9\n",
      "Educational;Pretend Play : 8\n",
      "Simulation;Action & Adventure : 7\n",
      "Parenting;Education : 7\n",
      "Entertainment;Brain Games : 7\n",
      "Board;Brain Games : 7\n",
      "Parenting;Music & Video : 6\n",
      "Educational;Brain Games : 6\n",
      "Casual;Creativity : 6\n",
      "Art & Design;Creativity : 6\n",
      "Education;Pretend Play : 5\n",
      "Role Playing;Pretend Play : 4\n",
      "Education;Creativity : 4\n",
      "Role Playing;Action & Adventure : 3\n",
      "Puzzle;Action & Adventure : 3\n",
      "Entertainment;Creativity : 3\n",
      "Entertainment;Action & Adventure : 3\n",
      "Educational;Creativity : 3\n",
      "Educational;Action & Adventure : 3\n",
      "Education;Music & Video : 3\n",
      "Education;Brain Games : 3\n",
      "Education;Action & Adventure : 3\n",
      "Adventure;Action & Adventure : 3\n",
      "Video Players & Editors;Music & Video : 2\n",
      "Sports;Action & Adventure : 2\n",
      "Simulation;Pretend Play : 2\n",
      "Puzzle;Creativity : 2\n",
      "Music;Music & Video : 2\n",
      "Entertainment;Pretend Play : 2\n",
      "Casual;Education : 2\n",
      "Board;Action & Adventure : 2\n",
      "Video Players & Editors;Creativity : 1\n",
      "Trivia;Education : 1\n",
      "Travel & Local;Action & Adventure : 1\n",
      "Tools;Education : 1\n",
      "Strategy;Education : 1\n",
      "Strategy;Creativity : 1\n",
      "Strategy;Action & Adventure : 1\n",
      "Simulation;Education : 1\n",
      "Role Playing;Brain Games : 1\n",
      "Racing;Pretend Play : 1\n",
      "Puzzle;Education : 1\n",
      "Parenting;Brain Games : 1\n",
      "Music & Audio;Music & Video : 1\n",
      "Lifestyle;Pretend Play : 1\n",
      "Lifestyle;Education : 1\n",
      "Health & Fitness;Education : 1\n",
      "Health & Fitness;Action & Adventure : 1\n",
      "Entertainment;Education : 1\n",
      "Communication;Creativity : 1\n",
      "Comics;Creativity : 1\n",
      "Casual;Music & Video : 1\n",
      "Card;Action & Adventure : 1\n",
      "Books & Reference;Education : 1\n",
      "Art & Design;Pretend Play : 1\n",
      "Art & Design;Action & Adventure : 1\n",
      "Arcade;Pretend Play : 1\n",
      "Adventure;Education : 1\n"
     ]
    }
   ],
   "source": [
    "displayTable(freeGoogleStoreDataset, 9)"
   ]
  },
  {
   "cell_type": "markdown",
   "id": "9d620fb7",
   "metadata": {},
   "source": [
    "The difference between the Genres and the Category columns is not crystal clear, but one thing we can notice is that the Genres column is much more granular (it has more categories). We're only looking for the bigger picture at the moment, so we'll only work with the Category column moving forward.\n",
    "\n",
    "Up to this point, we found that the App Store is dominated by apps designed for fun, while Google Play shows a more balanced landscape of both practical and for-fun apps. Now we'd like to get an idea about the kind of apps that have most users."
   ]
  },
  {
   "cell_type": "markdown",
   "id": "1aa3992b",
   "metadata": {},
   "source": [
    "### Most Popular Apps by Genre on the App Store\n",
    "One way to find out what genres are the most popular (have the most users) is to calculate the average number of installs for each app genre. For the Google Play data set, we can find this information in the Installs column, but for the App Store data set this information is missing. As a workaround, we'll take the total number of user ratings as a proxy, which we can find in the rating_count_tot app.\n",
    "\n",
    "Below, we calculate the average number of user ratings per app genre on the App Store:"
   ]
  },
  {
   "cell_type": "code",
   "execution_count": 42,
   "id": "7d4d2022",
   "metadata": {},
   "outputs": [
    {
     "name": "stdout",
     "output_type": "stream",
     "text": [
      "Catalogs : 4.125\n",
      "Games : 4.037393162393163\n",
      "Productivity : 4.0\n",
      "Business : 3.9705882352941178\n",
      "Shopping : 3.9702380952380953\n",
      "Music : 3.946969696969697\n",
      "Photo & Video : 3.903125\n",
      "Navigation : 3.8333333333333335\n",
      "Health & Fitness : 3.769230769230769\n",
      "Reference : 3.6666666666666665\n",
      "Education : 3.635593220338983\n",
      "Food & Drink : 3.6346153846153846\n",
      "Social Networking : 3.5943396226415096\n",
      "Entertainment : 3.5393700787401574\n",
      "Utilities : 3.5308641975308643\n",
      "Travel : 3.4875\n",
      "Weather : 3.482142857142857\n",
      "Lifestyle : 3.411764705882353\n",
      "Finance : 3.375\n",
      "News : 3.244186046511628\n",
      "Book : 3.0714285714285716\n",
      "Sports : 3.0652173913043477\n",
      "Medical : 3.0\n"
     ]
    }
   ],
   "source": [
    "primeGenreFreqTable = frequencyTable(freeApplePlayStoreDataset, 12)\n",
    "printList = []\n",
    "\n",
    "for genre in primeGenreFreqTable:\n",
    "    \n",
    "    total = 0\n",
    "    genreCount = 0\n",
    "    \n",
    "    for row in freeApplePlayStoreDataset:\n",
    "        \n",
    "        appGenre = row[12]\n",
    "        \n",
    "        if appGenre == genre:\n",
    "            \n",
    "            userRatings = float(row[8])\n",
    "            total += userRatings\n",
    "            genreCount += 1\n",
    "            \n",
    "    averageRating = total / genreCount\n",
    "    printList.append((averageRating, genre))\n",
    "    listSorted = sorted(printList, reverse = True)\n",
    "\n",
    "for entry in listSorted:\n",
    "    print(entry[1], ':', entry[0])          "
   ]
  },
  {
   "cell_type": "markdown",
   "id": "c4054305",
   "metadata": {},
   "source": [
    "### Show the average number of installs for each category\n",
    "Listed the # installs in the Google Play Store for each category."
   ]
  },
  {
   "cell_type": "code",
   "execution_count": 31,
   "id": "478b0bcb",
   "metadata": {},
   "outputs": [
    {
     "name": "stdout",
     "output_type": "stream",
     "text": [
      "COMMUNICATION : 38456119.167247385\n",
      "VIDEO_PLAYERS : 24727872.452830188\n",
      "SOCIAL : 23253652.127118643\n",
      "PHOTOGRAPHY : 17840110.40229885\n",
      "PRODUCTIVITY : 16787331.344927534\n",
      "GAME : 15588015.603248259\n",
      "TRAVEL_AND_LOCAL : 13984077.710144928\n",
      "ENTERTAINMENT : 11640705.88235294\n",
      "TOOLS : 10801391.298666667\n",
      "NEWS_AND_MAGAZINES : 9549178.467741935\n",
      "BOOKS_AND_REFERENCE : 8767811.894736841\n",
      "SHOPPING : 7036877.311557789\n",
      "PERSONALIZATION : 5201482.6122448975\n",
      "WEATHER : 5074486.197183099\n",
      "HEALTH_AND_FITNESS : 4188821.9853479853\n",
      "MAPS_AND_NAVIGATION : 4056941.7741935486\n",
      "FAMILY : 3697848.1731343283\n",
      "SPORTS : 3638640.1428571427\n",
      "ART_AND_DESIGN : 1986335.0877192982\n",
      "FOOD_AND_DRINK : 1924897.7363636363\n",
      "EDUCATION : 1833495.145631068\n",
      "BUSINESS : 1712290.1474201474\n",
      "LIFESTYLE : 1437816.2687861272\n",
      "FINANCE : 1387692.475609756\n",
      "HOUSE_AND_HOME : 1331540.5616438356\n",
      "DATING : 854028.8303030303\n",
      "COMICS : 817657.2727272727\n",
      "AUTO_AND_VEHICLES : 647317.8170731707\n",
      "LIBRARIES_AND_DEMO : 638503.734939759\n",
      "PARENTING : 542603.6206896552\n",
      "BEAUTY : 513151.88679245283\n",
      "EVENTS : 253542.22222222222\n",
      "MEDICAL : 120550.61980830671\n"
     ]
    }
   ],
   "source": [
    "categoryFreqTable = frequencyTable(freeGoogleStoreDataset, 1)\n",
    "printList = []\n",
    "\n",
    "for category in categoryFreqTable:\n",
    "    \n",
    "    total = 0\n",
    "    categoryCount = 0\n",
    "    \n",
    "    for row in freeGoogleStoreDataset:\n",
    "        \n",
    "        appCategory = row[1]\n",
    "        \n",
    "        if appCategory == category:\n",
    "            \n",
    "            installs = row[5]\n",
    "            installs = installs.replace(\"+\", \"\")\n",
    "            installs = installs.replace(\",\", \"\")\n",
    "            total += float(installs)\n",
    "            categoryCount += 1\n",
    "      \n",
    "    averageInstalls = total / categoryCount\n",
    "    printList.append((averageInstalls, category))\n",
    "    listSorted = sorted(printList, reverse = True)\n",
    "\n",
    "for entry in listSorted:\n",
    "    print(entry[1], ':', entry[0])          "
   ]
  }
 ],
 "metadata": {
  "kernelspec": {
   "display_name": "Python 3 (ipykernel)",
   "language": "python",
   "name": "python3"
  },
  "language_info": {
   "codemirror_mode": {
    "name": "ipython",
    "version": 3
   },
   "file_extension": ".py",
   "mimetype": "text/x-python",
   "name": "python",
   "nbconvert_exporter": "python",
   "pygments_lexer": "ipython3",
   "version": "3.9.13"
  }
 },
 "nbformat": 4,
 "nbformat_minor": 5
}
