{
 "cells": [
  {
   "cell_type": "markdown",
   "id": "2edb7116",
   "metadata": {},
   "source": [
    "# Profitable App Profiles for the App Store and Google Play Markets\n",
    "\n",
    "Our goal is to determine the kind of apps that are likely to attract more users. This is important because our revenue is driven through in-app purchases.\n",
    "\n",
    "To minimize risks and overhead, our validation strategy for an app idea has three steps:\n",
    "\n",
    "1. Build a minimal Android version of the app, and add it to Google Play.\n",
    "\n",
    "2. If the app has a good response from users, we develop it further.\n",
    "\n",
    "3. If the app is profitable after six months, we build an iOS version of the app and add it to the App Store.\n",
    "\n",
    "Because our end goal is to add the app on both Google Play and the App Store, we need to find app profiles that are successful in both markets. For instance, a profile that works well for both markets might be a productivity app that makes use of gamification.\n",
    "\n"
   ]
  },
  {
   "cell_type": "markdown",
   "id": "f5793802",
   "metadata": {},
   "source": [
    "## Opening and Exploring the Data\n",
    "As of September 2018, there were approximately 2 million iOS apps available on the App Store, and 2.1 million Android apps on Google Play.\n",
    "\n",
    "![img](https://s3.amazonaws.com/dq-content/350/py1m8_statista.png) Source: [Statista](https://www.statista.com/statistics/276623/number-of-apps-available-in-leading-app-stores/)\n",
    "Collecting data for over four million apps requires a significant amount of time and money, so we'll try to analyze a sample of data instead. To avoid spending resources with collecting new data ourselves, we should first try to see whether we can find any relevant existing data at no cost. Luckily, these are two data sets that seem suitable for our purpose:\n",
    "\n",
    "* A [dataset](https://www.kaggle.com/lava18/google-play-store-apps) containing data about approximately ten thousand Android apps from Google Play. You can download the data set directly from [this link](https://dq-content.s3.amazonaws.com/350/googleplaystore.csv).\n",
    "* A [dataset](https://www.kaggle.com/ramamet4/app-store-apple-data-set-10k-apps) containing data about approximately seven thousand iOS apps from the App Store. You can download the data set directly from [this link](https://dq-content.s3.amazonaws.com/350/AppleStore.csv)."
   ]
  },
  {
   "cell_type": "markdown",
   "id": "df947403",
   "metadata": {},
   "source": [
    "## Define global methods"
   ]
  },
  {
   "cell_type": "markdown",
   "id": "ede0cc2b",
   "metadata": {},
   "source": [
    "### openFile()\n",
    "Return a list from a csv file from the provided path"
   ]
  },
  {
   "cell_type": "code",
   "execution_count": 2,
   "id": "38c92554",
   "metadata": {},
   "outputs": [],
   "source": [
    "def openFile(withPath):\n",
    "    \n",
    "    openedFile = open(withPath)\n",
    "\n",
    "    from csv import reader\n",
    "    readFile = reader(openedFile)\n",
    "    return list(readFile)"
   ]
  },
  {
   "cell_type": "markdown",
   "id": "477b6b19",
   "metadata": {},
   "source": [
    "### exploreData()\n",
    "Use this method to explore the dataset and optionally print the # rows and columns."
   ]
  },
  {
   "cell_type": "code",
   "execution_count": 3,
   "id": "f0bd58de",
   "metadata": {},
   "outputs": [],
   "source": [
    "def exploreData(dataset, start, end, rowsAndColumns=False):\n",
    "    \n",
    "    datasetSlice = dataset[start:end]    \n",
    "    \n",
    "    for row in datasetSlice:\n",
    "        print(row)\n",
    "        print('\\n') # adds a new (empty) line after each row\n",
    "\n",
    "    if rowsAndColumns:\n",
    "        print('Number of rows:', len(dataset))\n",
    "        print('Number of columns:', len(dataset[0]))"
   ]
  },
  {
   "cell_type": "markdown",
   "id": "eb8d1d1c",
   "metadata": {},
   "source": [
    "### findDuplicates()\n",
    "Find duplicates in the given dataset. The method determines a duplicate based on the app name and therefore requires a dataset with app names and its index."
   ]
  },
  {
   "cell_type": "code",
   "execution_count": 4,
   "id": "06dfe1d4",
   "metadata": {},
   "outputs": [],
   "source": [
    "def findDuplicates(inDataset, appNameIndex):\n",
    "    \n",
    "    print(\"Finding duplicates and printing the first rows if applicable\")\n",
    "    \n",
    "    uniqueApps = []\n",
    "    duplicateApps = []\n",
    "\n",
    "    for row in inDataset:\n",
    "        appName = row[appNameIndex]\n",
    "\n",
    "        if appName in uniqueApps:\n",
    "            duplicateApps.append(row)\n",
    "        else:\n",
    "            uniqueApps.append(appName)\n",
    "        \n",
    "    \n",
    "    if len(duplicateApps) > 3:\n",
    "        \n",
    "        for x in range(3):\n",
    "            print(duplicateApps[x])\n",
    "            print(\"---\")\n",
    "    else:\n",
    "        \n",
    "        for row in duplicateApps:\n",
    "            print(row)\n",
    "            print(\"---\")\n",
    "    \n",
    "    print(\"Out of \" + str(len(uniqueApps)) + \" apps\")\n",
    "    print(\"We found \" + str(len(duplicateApps)) + \" duplicates\")"
   ]
  },
  {
   "cell_type": "markdown",
   "id": "54dc5593",
   "metadata": {},
   "source": [
    "### dictionaryWithAppnamesAndReviewsCount()\n",
    "This methode generates a dictionary with application names as key and the total amount of reviews as value.\n",
    "To do this it requires the index from the dataset for each parameter.\n",
    "\n",
    "```\n",
    "{\n",
    "    appname_1_string : review_amount_x_integer,\n",
    "    appname_2_string : review_amount_x_integer,\n",
    "    ...\n",
    "}\n",
    "```"
   ]
  },
  {
   "cell_type": "code",
   "execution_count": 5,
   "id": "aa4c350a",
   "metadata": {},
   "outputs": [],
   "source": [
    "def dictionaryWithAppnamesAndReviewsCount(fromDataset, appNameIndex, reviewsCountIndex):\n",
    "    \n",
    "    dictionary = {}\n",
    "    \n",
    "    for row in fromDataset:\n",
    "    \n",
    "        appName = row[appNameIndex]\n",
    "        reviewsCount = int(row[reviewsCountIndex])\n",
    "        \n",
    "        if appName not in dictionary:\n",
    "            dictionary[appName] = reviewsCount\n",
    "        elif appName in dictionary and dictionary[appName] < reviewsCount:\n",
    "            dictionary[appName] = reviewsCount\n",
    "            \n",
    "    return dictionary"
   ]
  },
  {
   "cell_type": "markdown",
   "id": "61ce003d",
   "metadata": {},
   "source": [
    "### generateCleanDataset()\n",
    "Recreate a new dataset from an existing dataset. \n",
    "\n",
    "Internally calls dictionaryWithAppnamesAndReviewsCount() to have a reference of highest number of reviews for each app. This is used as a criteria to remove duplicate data where we keep the row with the highest count."
   ]
  },
  {
   "cell_type": "code",
   "execution_count": 6,
   "id": "7336e8bb",
   "metadata": {},
   "outputs": [],
   "source": [
    "def generateCleanDataset(fromDataset, appNameIndex, reviewsCountIndex):\n",
    "    \n",
    "    cleanDataset = []\n",
    "    alreadyAdded = []\n",
    "    maxReviewDictionary = dictionaryWithAppnamesAndReviewsCount(fromDataset, appNameIndex, reviewsCountIndex)\n",
    "    \n",
    "    for row in fromDataset:\n",
    "        \n",
    "        appName = row[appNameIndex]\n",
    "        reviewsCount = int(row[reviewsCountIndex])\n",
    "    \n",
    "        if appName not in alreadyAdded and reviewsCount == maxReviewDictionary[appName]:\n",
    "            cleanDataset.append(row)\n",
    "            alreadyAdded.append(appName)\n",
    "            \n",
    "    return cleanDataset"
   ]
  },
  {
   "cell_type": "markdown",
   "id": "759ed8d4",
   "metadata": {},
   "source": [
    "### isEnglish()\n",
    "returns True if the provided string doesn't contain more than 3 foreign characters. This is based on the ASCII code."
   ]
  },
  {
   "cell_type": "code",
   "execution_count": 7,
   "id": "69cfcbfd",
   "metadata": {},
   "outputs": [],
   "source": [
    "def isEnglish(string):\n",
    "    \n",
    "    foreignASCIIcount = 0\n",
    "    \n",
    "    for c in string:\n",
    "        \n",
    "        if ord(c) > 127:\n",
    "            \n",
    "            foreignASCIIcount += 1\n",
    "            if foreignASCIIcount > 3:\n",
    "                return False\n",
    "    \n",
    "    return True"
   ]
  },
  {
   "cell_type": "markdown",
   "id": "aaa5aaae",
   "metadata": {},
   "source": [
    "### frequencyTable()\n",
    "Generate a frequency table that showcases number of genres for each application."
   ]
  },
  {
   "cell_type": "code",
   "execution_count": 8,
   "id": "093be078",
   "metadata": {},
   "outputs": [],
   "source": [
    "def frequencyTable(fromDataset, genreIndex):\n",
    "    \n",
    "    dictionary = {}\n",
    "    \n",
    "    for row in fromDataset:\n",
    "    \n",
    "        genre = row[genreIndex]\n",
    "        \n",
    "        if genre in dictionary:\n",
    "            dictionary[genre] += 1\n",
    "        else:\n",
    "            dictionary[genre] = 1\n",
    "            \n",
    "    return dictionary"
   ]
  },
  {
   "cell_type": "markdown",
   "id": "38d365b7",
   "metadata": {},
   "source": [
    "### displayTable()\n",
    "Converts a frequency table (dictionary) to a list of tuples. This way we can use the sorted() method to display the values."
   ]
  },
  {
   "cell_type": "code",
   "execution_count": 9,
   "id": "e25ec844",
   "metadata": {},
   "outputs": [],
   "source": [
    "def displayTable(fromDataset, index):\n",
    "    \n",
    "    table = frequencyTable(fromDataset, index)\n",
    "    tableDisplay = []\n",
    "    \n",
    "    for key in table:\n",
    "        keyAsTuple = (table[key], key)\n",
    "        tableDisplay.append(keyAsTuple)\n",
    "\n",
    "    tableSorted = sorted(tableDisplay, reverse = True)\n",
    "    for entry in tableSorted:\n",
    "        print(entry[1], ':', entry[0])"
   ]
  },
  {
   "cell_type": "markdown",
   "id": "ee307141",
   "metadata": {},
   "source": [
    "## Apple Store\n",
    "\n",
    "A section exploring the Apple Store dataset. We print a few rows and and columns."
   ]
  },
  {
   "cell_type": "code",
   "execution_count": 10,
   "id": "ab2c890c",
   "metadata": {},
   "outputs": [],
   "source": [
    "appleStoreData = openFile(\"datasets/AppleStore.csv\")"
   ]
  },
  {
   "cell_type": "markdown",
   "id": "07f259d8",
   "metadata": {},
   "source": [
    "### Printing the first 2 rows (without header)"
   ]
  },
  {
   "cell_type": "code",
   "execution_count": 11,
   "id": "dd99e38f",
   "metadata": {},
   "outputs": [
    {
     "name": "stdout",
     "output_type": "stream",
     "text": [
      "['1', '281656475', 'PAC-MAN Premium', '100788224', 'USD', '3.99', '21292', '26', '4', '4.5', '6.3.5', '4+', 'Games', '38', '5', '10', '1']\n",
      "\n",
      "\n",
      "['2', '281796108', 'Evernote - stay organized', '158578688', 'USD', '0', '161065', '26', '4', '3.5', '8.2.2', '4+', 'Productivity', '37', '5', '23', '1']\n",
      "\n",
      "\n",
      "Number of rows: 7197\n",
      "Number of columns: 17\n"
     ]
    }
   ],
   "source": [
    "exploreData(appleStoreData[1:], 0, 2, True)"
   ]
  },
  {
   "cell_type": "markdown",
   "id": "00270ba7",
   "metadata": {},
   "source": [
    "### All column names for the Apple Store dataset\n",
    "doc: https://www.kaggle.com/ramamet4/app-store-apple-data-set-10k-apps"
   ]
  },
  {
   "cell_type": "code",
   "execution_count": 12,
   "id": "72ce1858",
   "metadata": {},
   "outputs": [
    {
     "name": "stdout",
     "output_type": "stream",
     "text": [
      "['', 'id', 'track_name', 'size_bytes', 'currency', 'price', 'rating_count_tot', 'rating_count_ver', 'user_rating', 'user_rating_ver', 'ver', 'cont_rating', 'prime_genre', 'sup_devices.num', 'ipadSc_urls.num', 'lang.num', 'vpp_lic']\n"
     ]
    }
   ],
   "source": [
    "for column in appleStoreData[0:1]:\n",
    "    print(column)"
   ]
  },
  {
   "cell_type": "markdown",
   "id": "49b223a2",
   "metadata": {},
   "source": [
    "## Google Play Store\n",
    "\n",
    "A section exploring the Google Play dataset. We print a few rows and and columns.\n",
    "\n",
    "We also remove the duplicate applications from the dataset and recreate a new dataset with unique apps."
   ]
  },
  {
   "cell_type": "code",
   "execution_count": 13,
   "id": "bbe3c49c",
   "metadata": {},
   "outputs": [],
   "source": [
    "googlePlayStoreData = openFile(\"datasets/GooglePlayStore.csv\")"
   ]
  },
  {
   "cell_type": "markdown",
   "id": "5d2834f0",
   "metadata": {},
   "source": [
    "### Printing the first 3 rows (without header)"
   ]
  },
  {
   "cell_type": "code",
   "execution_count": 14,
   "id": "24fd7d6c",
   "metadata": {},
   "outputs": [
    {
     "name": "stdout",
     "output_type": "stream",
     "text": [
      "['Photo Editor & Candy Camera & Grid & ScrapBook', 'ART_AND_DESIGN', '4.1', '159', '19M', '10,000+', 'Free', '0', 'Everyone', 'Art & Design', 'January 7, 2018', '1.0.0', '4.0.3 and up']\n",
      "\n",
      "\n",
      "['Coloring book moana', 'ART_AND_DESIGN', '3.9', '967', '14M', '500,000+', 'Free', '0', 'Everyone', 'Art & Design;Pretend Play', 'January 15, 2018', '2.0.0', '4.0.3 and up']\n",
      "\n",
      "\n",
      "['U Launcher Lite – FREE Live Cool Themes, Hide Apps', 'ART_AND_DESIGN', '4.7', '87510', '8.7M', '5,000,000+', 'Free', '0', 'Everyone', 'Art & Design', 'August 1, 2018', '1.2.4', '4.0.3 and up']\n",
      "\n",
      "\n",
      "Number of rows: 10841\n",
      "Number of columns: 13\n"
     ]
    }
   ],
   "source": [
    "exploreData(googlePlayStoreData[1:], 0, 3, True)"
   ]
  },
  {
   "cell_type": "markdown",
   "id": "6e392935",
   "metadata": {},
   "source": [
    "### All column names for the Google Play Store dataset\n",
    "\n",
    "doc: https://www.kaggle.com/datasets/lava18/google-play-store-apps"
   ]
  },
  {
   "cell_type": "code",
   "execution_count": 15,
   "id": "4297cbc4",
   "metadata": {},
   "outputs": [
    {
     "name": "stdout",
     "output_type": "stream",
     "text": [
      "['App', 'Category', 'Rating', 'Reviews', 'Size', 'Installs', 'Type', 'Price', 'Content Rating', 'Genres', 'Last Updated', 'Current Ver', 'Android Ver']\n"
     ]
    }
   ],
   "source": [
    "for column in googlePlayStoreData[0:1]:\n",
    "    print(column)"
   ]
  },
  {
   "cell_type": "markdown",
   "id": "26299296",
   "metadata": {},
   "source": [
    "## Cleanup datasets\n",
    "\n",
    "* Remove inaccurate data\n",
    "* Remove duplicates\n",
    "* Filter out non-English names\n",
    "* Isolate free apps"
   ]
  },
  {
   "cell_type": "markdown",
   "id": "92c23bde",
   "metadata": {},
   "source": [
    "### Remove inaccurate data\n",
    "\n",
    "#### Removing 10473 (with header) due to 3.0M value not being an float"
   ]
  },
  {
   "cell_type": "code",
   "execution_count": 16,
   "id": "ee8dda2f",
   "metadata": {},
   "outputs": [
    {
     "name": "stdout",
     "output_type": "stream",
     "text": [
      "['Life Made WI-Fi Touchscreen Photo Frame', '1.9', '19', '3.0M', '1,000+', 'Free', '0', 'Everyone', '', 'February 11, 2018', '1.0.19', '4.0 and up']\n"
     ]
    }
   ],
   "source": [
    "print(googlePlayStoreData[10473])\n",
    "del googlePlayStoreData[10473]"
   ]
  },
  {
   "cell_type": "markdown",
   "id": "afeb3a32",
   "metadata": {},
   "source": [
    "#### Removing x due to NaN not being either 'Free' or 'Paid'"
   ]
  },
  {
   "cell_type": "code",
   "execution_count": 17,
   "id": "150a48f6",
   "metadata": {},
   "outputs": [
    {
     "name": "stdout",
     "output_type": "stream",
     "text": [
      "['Command & Conquer: Rivals', 'FAMILY', 'NaN', '0', 'Varies with device', '0', 'NaN', '0', 'Everyone 10+', 'Strategy', 'June 28, 2018', 'Varies with device', 'Varies with device']\n"
     ]
    }
   ],
   "source": [
    "for row in googlePlayStoreData:\n",
    "    \n",
    "    if row[6] == 'NaN':\n",
    "        print(row)\n",
    "        googlePlayStoreData.remove(row)"
   ]
  },
  {
   "cell_type": "markdown",
   "id": "573cca8a",
   "metadata": {},
   "source": [
    "### Search for duplicate application entries"
   ]
  },
  {
   "cell_type": "code",
   "execution_count": 18,
   "id": "774391df",
   "metadata": {},
   "outputs": [
    {
     "name": "stdout",
     "output_type": "stream",
     "text": [
      "Finding duplicates and printing the first rows if applicable\n",
      "['Quick PDF Scanner + OCR FREE', 'BUSINESS', '4.2', '80805', 'Varies with device', '5,000,000+', 'Free', '0', 'Everyone', 'Business', 'February 26, 2018', 'Varies with device', '4.0.3 and up']\n",
      "---\n",
      "['Box', 'BUSINESS', '4.2', '159872', 'Varies with device', '10,000,000+', 'Free', '0', 'Everyone', 'Business', 'July 31, 2018', 'Varies with device', 'Varies with device']\n",
      "---\n",
      "['Google My Business', 'BUSINESS', '4.4', '70991', 'Varies with device', '5,000,000+', 'Free', '0', 'Everyone', 'Business', 'July 24, 2018', '2.19.0.204537701', '4.4 and up']\n",
      "---\n",
      "Out of 9658 apps\n",
      "We found 1181 duplicates\n"
     ]
    }
   ],
   "source": [
    "findDuplicates(googlePlayStoreData[1:], 0)"
   ]
  },
  {
   "cell_type": "markdown",
   "id": "959b6136",
   "metadata": {},
   "source": [
    "### Example of a duplicate application - Google My Business"
   ]
  },
  {
   "cell_type": "code",
   "execution_count": 19,
   "id": "f20417df",
   "metadata": {
    "scrolled": true
   },
   "outputs": [
    {
     "name": "stdout",
     "output_type": "stream",
     "text": [
      "['Google My Business', 'BUSINESS', '4.4', '70991', 'Varies with device', '5,000,000+', 'Free', '0', 'Everyone', 'Business', 'July 24, 2018', '2.19.0.204537701', '4.4 and up']\n",
      "['Google My Business', 'BUSINESS', '4.4', '70991', 'Varies with device', '5,000,000+', 'Free', '0', 'Everyone', 'Business', 'July 24, 2018', '2.19.0.204537701', '4.4 and up']\n",
      "['Google My Business', 'BUSINESS', '4.4', '70991', 'Varies with device', '5,000,000+', 'Free', '0', 'Everyone', 'Business', 'July 24, 2018', '2.19.0.204537701', '4.4 and up']\n"
     ]
    }
   ],
   "source": [
    "for row in googlePlayStoreData:\n",
    "    appName = row[0]\n",
    "    \n",
    "    if appName == \"Google My Business\":\n",
    "        print(row)"
   ]
  },
  {
   "cell_type": "markdown",
   "id": "b30c59f2",
   "metadata": {},
   "source": [
    "### Removing the duplicate applications\n",
    "\n",
    "Index 3 displays the review count. We will use this integer to determine which row we want to keep. The highest count should point to the most recent data.\n",
    "\n",
    "We store our clean dataset in a new list (`cleanGoogleDataset`)."
   ]
  },
  {
   "cell_type": "code",
   "execution_count": 20,
   "id": "5afae4b7",
   "metadata": {},
   "outputs": [],
   "source": [
    "cleanGoogleDataset = generateCleanDataset(fromDataset=googlePlayStoreData[1:], appNameIndex=0, reviewsCountIndex=3)"
   ]
  },
  {
   "cell_type": "markdown",
   "id": "115341d8",
   "metadata": {},
   "source": [
    "Loop through the original dataset again and only append to the clean data set if\n",
    "\n",
    "1. application is not added yet\n",
    "<br/>`if name not in alreadyAdded`\n",
    "\n",
    "2. we only use the row with the highest count for that app\n",
    "<br/>`reviewsCount == reviewsMax[name]`"
   ]
  },
  {
   "cell_type": "markdown",
   "id": "292671fa",
   "metadata": {},
   "source": [
    "### Check for duplicates in the Apple Store dataset"
   ]
  },
  {
   "cell_type": "code",
   "execution_count": 21,
   "id": "2a0a4371",
   "metadata": {},
   "outputs": [
    {
     "name": "stdout",
     "output_type": "stream",
     "text": [
      "Finding duplicates and printing the first rows if applicable\n",
      "['7579', '1089824278', 'VR Roller Coaster', '240964608', 'USD', '0', '67', '44', '3.5', '4', '0.81', '4+', 'Games', '38', '0', '1', '1']\n",
      "---\n",
      "['10885', '1178454060', 'Mannequin Challenge', '59572224', 'USD', '0', '105', '58', '4', '4.5', '1.0.1', '4+', 'Games', '38', '5', '1', '1']\n",
      "---\n",
      "Out of 7195 apps\n",
      "We found 2 duplicates\n"
     ]
    }
   ],
   "source": [
    "findDuplicates(appleStoreData[1:], 2)"
   ]
  },
  {
   "cell_type": "markdown",
   "id": "fc84a9ca",
   "metadata": {},
   "source": [
    "### Removing duplicates again\n",
    "We use the same criteria and select the row with the highest review count.\n",
    "\n",
    "```\n",
    "app name index = 2\n",
    "reviews count index = 6\n",
    "```"
   ]
  },
  {
   "cell_type": "code",
   "execution_count": 22,
   "id": "981fb3a9",
   "metadata": {},
   "outputs": [],
   "source": [
    "cleanAppleStoreDataset = generateCleanDataset(fromDataset=appleStoreData[1:], appNameIndex=2, reviewsCountIndex=6)"
   ]
  },
  {
   "cell_type": "markdown",
   "id": "ba86ff1d",
   "metadata": {},
   "source": [
    "### Filter non english app names"
   ]
  },
  {
   "cell_type": "code",
   "execution_count": 23,
   "id": "538944a6",
   "metadata": {},
   "outputs": [
    {
     "name": "stdout",
     "output_type": "stream",
     "text": [
      "Remaining rows: 6181\n"
     ]
    }
   ],
   "source": [
    "englishAppleStoreDataset = []\n",
    "\n",
    "for row in cleanAppleStoreDataset:\n",
    "    \n",
    "    if isEnglish(row[2]):\n",
    "        englishAppleStoreDataset.append(row)\n",
    "        \n",
    "print(\"Remaining rows: \" + str(len(englishAppleStoreDataset)))"
   ]
  },
  {
   "cell_type": "code",
   "execution_count": 24,
   "id": "5a41ed37",
   "metadata": {},
   "outputs": [
    {
     "name": "stdout",
     "output_type": "stream",
     "text": [
      "Remaining rows: 9613\n"
     ]
    }
   ],
   "source": [
    "englishGoogleStoreDataset = []\n",
    "\n",
    "for row in cleanGoogleDataset:\n",
    "    \n",
    "    if isEnglish(row[0]):\n",
    "        englishGoogleStoreDataset.append(row)\n",
    "        \n",
    "print(\"Remaining rows: \" + str(len(englishGoogleStoreDataset)))"
   ]
  },
  {
   "cell_type": "markdown",
   "id": "1f3ea691",
   "metadata": {},
   "source": [
    "### Isolate free apps"
   ]
  },
  {
   "cell_type": "code",
   "execution_count": 25,
   "id": "67704d24",
   "metadata": {},
   "outputs": [
    {
     "name": "stdout",
     "output_type": "stream",
     "text": [
      "Remaining rows: 3220\n"
     ]
    }
   ],
   "source": [
    "freeApplePlayStoreDataset = []\n",
    "\n",
    "for row in englishAppleStoreDataset:\n",
    "    \n",
    "    if row[5] == \"0\":\n",
    "        freeApplePlayStoreDataset.append(row)\n",
    "    \n",
    "print(\"Remaining rows: \" + str(len(freeApplePlayStoreDataset)))"
   ]
  },
  {
   "cell_type": "code",
   "execution_count": 26,
   "id": "1b052a52",
   "metadata": {},
   "outputs": [
    {
     "name": "stdout",
     "output_type": "stream",
     "text": [
      "Remaining rows: 8863\n"
     ]
    }
   ],
   "source": [
    "freeGoogleStoreDataset = []\n",
    "\n",
    "for row in englishGoogleStoreDataset:\n",
    "    \n",
    "    if row[6] == \"Free\":\n",
    "        freeGoogleStoreDataset.append(row)\n",
    "        \n",
    "print(\"Remaining rows: \" + str(len(freeGoogleStoreDataset)))"
   ]
  },
  {
   "cell_type": "markdown",
   "id": "379dde48",
   "metadata": {},
   "source": [
    "## Highlight the most popular categories\n",
    "\n",
    "Genre index in dataset\n",
    "\n",
    "```\n",
    "# Apple\n",
    "prime_genre = 12\n",
    "\n",
    "# Google\n",
    "category = 1\n",
    "genres = 9\n",
    "```\n",
    "\n",
    "We start by examining the frequency table for the prime_genre column of the App Store data set."
   ]
  },
  {
   "cell_type": "code",
   "execution_count": 38,
   "id": "4940ad61",
   "metadata": {},
   "outputs": [
    {
     "name": "stdout",
     "output_type": "stream",
     "text": [
      "Games : 1872\n",
      "Entertainment : 254\n",
      "Photo & Video : 160\n",
      "Education : 118\n",
      "Social Networking : 106\n",
      "Shopping : 84\n",
      "Utilities : 81\n",
      "Sports : 69\n",
      "Music : 66\n",
      "Health & Fitness : 65\n",
      "Productivity : 56\n",
      "Lifestyle : 51\n",
      "News : 43\n",
      "Travel : 40\n",
      "Finance : 36\n",
      "Weather : 28\n",
      "Food & Drink : 26\n",
      "Reference : 18\n",
      "Business : 17\n",
      "Book : 14\n",
      "Navigation : 6\n",
      "Medical : 6\n",
      "Catalogs : 4\n"
     ]
    }
   ],
   "source": [
    "displayTable(freeApplePlayStoreDataset, 12)"
   ]
  },
  {
   "cell_type": "markdown",
   "id": "94577142",
   "metadata": {},
   "source": [
    "We can see that among the free English apps, more than a half (58.16%) are games. Entertainment apps are close to 8%, followed by photo and video apps, which are close to 5%. Only 3.66% of the apps are designed for education, followed by social networking apps which amount for 3.29% of the apps in our data set.\n",
    "\n",
    "The general impression is that App Store (at least the part containing free English apps) is dominated by apps that are designed for fun (games, entertainment, photo and video, social networking, sports, music, etc.), while apps with practical purposes (education, shopping, utilities, productivity, lifestyle, etc.) are more rare. However, the fact that fun apps are the most numerous doesn't also imply that they also have the greatest number of users — the demand might not be the same as the offer.\n",
    "\n",
    "Let's continue by examining the Genres and Category columns of the Google Play data set (two columns which seem to be related)."
   ]
  },
  {
   "cell_type": "code",
   "execution_count": 39,
   "id": "9d33ab6d",
   "metadata": {},
   "outputs": [
    {
     "name": "stdout",
     "output_type": "stream",
     "text": [
      "FAMILY : 1675\n",
      "GAME : 862\n",
      "TOOLS : 750\n",
      "BUSINESS : 407\n",
      "LIFESTYLE : 346\n",
      "PRODUCTIVITY : 345\n",
      "FINANCE : 328\n",
      "MEDICAL : 313\n",
      "SPORTS : 301\n",
      "PERSONALIZATION : 294\n",
      "COMMUNICATION : 287\n",
      "HEALTH_AND_FITNESS : 273\n",
      "PHOTOGRAPHY : 261\n",
      "NEWS_AND_MAGAZINES : 248\n",
      "SOCIAL : 236\n",
      "TRAVEL_AND_LOCAL : 207\n",
      "SHOPPING : 199\n",
      "BOOKS_AND_REFERENCE : 190\n",
      "DATING : 165\n",
      "VIDEO_PLAYERS : 159\n",
      "MAPS_AND_NAVIGATION : 124\n",
      "FOOD_AND_DRINK : 110\n",
      "EDUCATION : 103\n",
      "ENTERTAINMENT : 85\n",
      "LIBRARIES_AND_DEMO : 83\n",
      "AUTO_AND_VEHICLES : 82\n",
      "HOUSE_AND_HOME : 73\n",
      "WEATHER : 71\n",
      "EVENTS : 63\n",
      "PARENTING : 58\n",
      "ART_AND_DESIGN : 57\n",
      "COMICS : 55\n",
      "BEAUTY : 53\n"
     ]
    }
   ],
   "source": [
    "displayTable(freeGoogleStoreDataset, 1)"
   ]
  },
  {
   "cell_type": "markdown",
   "id": "2c586b17",
   "metadata": {},
   "source": [
    "The landscape seems significantly different on Google Play: there are not that many apps designed for fun, and it seems that a good number of apps are designed for practical purposes (family, tools, business, lifestyle, productivity, etc.). However, if we investigate this further, we can see that the family category (which accounts for almost 19% of the apps) means mostly games for kids."
   ]
  },
  {
   "cell_type": "code",
   "execution_count": 40,
   "id": "97e7db8e",
   "metadata": {},
   "outputs": [
    {
     "name": "stdout",
     "output_type": "stream",
     "text": [
      "Tools : 749\n",
      "Entertainment : 538\n",
      "Education : 474\n",
      "Business : 407\n",
      "Productivity : 345\n",
      "Lifestyle : 345\n",
      "Finance : 328\n",
      "Medical : 313\n",
      "Sports : 307\n",
      "Personalization : 294\n",
      "Communication : 287\n",
      "Action : 275\n",
      "Health & Fitness : 273\n",
      "Photography : 261\n",
      "News & Magazines : 248\n",
      "Social : 236\n",
      "Travel & Local : 206\n",
      "Shopping : 199\n",
      "Books & Reference : 190\n",
      "Simulation : 181\n",
      "Dating : 165\n",
      "Arcade : 164\n",
      "Video Players & Editors : 157\n",
      "Casual : 156\n",
      "Maps & Navigation : 124\n",
      "Food & Drink : 110\n",
      "Puzzle : 100\n",
      "Racing : 88\n",
      "Role Playing : 83\n",
      "Libraries & Demo : 83\n",
      "Auto & Vehicles : 82\n",
      "Strategy : 80\n",
      "House & Home : 73\n",
      "Weather : 71\n",
      "Events : 63\n",
      "Adventure : 60\n",
      "Comics : 54\n",
      "Beauty : 53\n",
      "Art & Design : 53\n",
      "Parenting : 44\n",
      "Card : 40\n",
      "Casino : 38\n",
      "Trivia : 37\n",
      "Educational;Education : 35\n",
      "Board : 34\n",
      "Educational : 33\n",
      "Education;Education : 30\n",
      "Word : 23\n",
      "Casual;Pretend Play : 21\n",
      "Music : 18\n",
      "Racing;Action & Adventure : 15\n",
      "Puzzle;Brain Games : 15\n",
      "Entertainment;Music & Video : 15\n",
      "Casual;Brain Games : 12\n",
      "Casual;Action & Adventure : 12\n",
      "Arcade;Action & Adventure : 11\n",
      "Action;Action & Adventure : 9\n",
      "Educational;Pretend Play : 8\n",
      "Simulation;Action & Adventure : 7\n",
      "Parenting;Education : 7\n",
      "Entertainment;Brain Games : 7\n",
      "Board;Brain Games : 7\n",
      "Parenting;Music & Video : 6\n",
      "Educational;Brain Games : 6\n",
      "Casual;Creativity : 6\n",
      "Art & Design;Creativity : 6\n",
      "Education;Pretend Play : 5\n",
      "Role Playing;Pretend Play : 4\n",
      "Education;Creativity : 4\n",
      "Role Playing;Action & Adventure : 3\n",
      "Puzzle;Action & Adventure : 3\n",
      "Entertainment;Creativity : 3\n",
      "Entertainment;Action & Adventure : 3\n",
      "Educational;Creativity : 3\n",
      "Educational;Action & Adventure : 3\n",
      "Education;Music & Video : 3\n",
      "Education;Brain Games : 3\n",
      "Education;Action & Adventure : 3\n",
      "Adventure;Action & Adventure : 3\n",
      "Video Players & Editors;Music & Video : 2\n",
      "Sports;Action & Adventure : 2\n",
      "Simulation;Pretend Play : 2\n",
      "Puzzle;Creativity : 2\n",
      "Music;Music & Video : 2\n",
      "Entertainment;Pretend Play : 2\n",
      "Casual;Education : 2\n",
      "Board;Action & Adventure : 2\n",
      "Video Players & Editors;Creativity : 1\n",
      "Trivia;Education : 1\n",
      "Travel & Local;Action & Adventure : 1\n",
      "Tools;Education : 1\n",
      "Strategy;Education : 1\n",
      "Strategy;Creativity : 1\n",
      "Strategy;Action & Adventure : 1\n",
      "Simulation;Education : 1\n",
      "Role Playing;Brain Games : 1\n",
      "Racing;Pretend Play : 1\n",
      "Puzzle;Education : 1\n",
      "Parenting;Brain Games : 1\n",
      "Music & Audio;Music & Video : 1\n",
      "Lifestyle;Pretend Play : 1\n",
      "Lifestyle;Education : 1\n",
      "Health & Fitness;Education : 1\n",
      "Health & Fitness;Action & Adventure : 1\n",
      "Entertainment;Education : 1\n",
      "Communication;Creativity : 1\n",
      "Comics;Creativity : 1\n",
      "Casual;Music & Video : 1\n",
      "Card;Action & Adventure : 1\n",
      "Books & Reference;Education : 1\n",
      "Art & Design;Pretend Play : 1\n",
      "Art & Design;Action & Adventure : 1\n",
      "Arcade;Pretend Play : 1\n",
      "Adventure;Education : 1\n"
     ]
    }
   ],
   "source": [
    "displayTable(freeGoogleStoreDataset, 9)"
   ]
  },
  {
   "cell_type": "markdown",
   "id": "ce1fd951",
   "metadata": {},
   "source": [
    "The difference between the Genres and the Category columns is not crystal clear, but one thing we can notice is that the Genres column is much more granular (it has more categories). We're only looking for the bigger picture at the moment, so we'll only work with the Category column moving forward.\n",
    "\n",
    "Up to this point, we found that the App Store is dominated by apps designed for fun, while Google Play shows a more balanced landscape of both practical and for-fun apps. Now we'd like to get an idea about the kind of apps that have most users."
   ]
  },
  {
   "cell_type": "markdown",
   "id": "1aa3992b",
   "metadata": {},
   "source": [
    "### Most Popular Apps by Genre on the App Store\n",
    "One way to find out what genres are the most popular (have the most users) is to calculate the average number of installs for each app genre. For the Google Play data set, we can find this information in the Installs column, but for the App Store data set this information is missing. As a workaround, we'll take the total number of user ratings as a proxy, which we can find in the rating_count_tot app.\n",
    "\n",
    "Below, we calculate the average number of user ratings per app genre on the App Store:"
   ]
  },
  {
   "cell_type": "code",
   "execution_count": 44,
   "id": "7d4d2022",
   "metadata": {},
   "outputs": [
    {
     "name": "stdout",
     "output_type": "stream",
     "text": [
      "Navigation : 86090.33333333333\n",
      "Reference : 74942.11111111111\n",
      "Social Networking : 71548.34905660378\n",
      "Music : 57326.530303030304\n",
      "Weather : 52279.892857142855\n",
      "Book : 39758.5\n",
      "Food & Drink : 33333.92307692308\n",
      "Finance : 31467.944444444445\n",
      "Photo & Video : 28441.54375\n",
      "Travel : 28243.8\n",
      "Shopping : 26919.690476190477\n",
      "Health & Fitness : 23298.015384615384\n",
      "Sports : 23008.898550724636\n",
      "Games : 22812.92467948718\n",
      "News : 21248.023255813954\n",
      "Productivity : 21028.410714285714\n",
      "Utilities : 18684.456790123455\n",
      "Lifestyle : 16485.764705882353\n",
      "Entertainment : 14029.830708661417\n",
      "Business : 7491.117647058823\n",
      "Education : 7003.983050847458\n",
      "Catalogs : 4004.0\n",
      "Medical : 612.0\n"
     ]
    }
   ],
   "source": [
    "primeGenreFreqTable = frequencyTable(freeApplePlayStoreDataset, 12)\n",
    "printList = []\n",
    "\n",
    "for genre in primeGenreFreqTable:\n",
    "    \n",
    "    total = 0\n",
    "    genreCount = 0\n",
    "    \n",
    "    for row in freeApplePlayStoreDataset:\n",
    "        \n",
    "        appGenre = row[12]\n",
    "        \n",
    "        if appGenre == genre:\n",
    "            \n",
    "            userRatings = float(row[6])\n",
    "            total += userRatings\n",
    "            genreCount += 1\n",
    "            \n",
    "    averageRating = total / genreCount\n",
    "    printList.append((averageRating, genre))\n",
    "    listSorted = sorted(printList, reverse = True)\n",
    "\n",
    "for entry in listSorted:\n",
    "    print(entry[1], ':', entry[0])          "
   ]
  },
  {
   "cell_type": "markdown",
   "id": "3e4739f5",
   "metadata": {},
   "source": [
    "On average, navigation apps have the highest number of user reviews, but this figure is heavily influenced by Waze and Google Maps, which have close to half a million user reviews together:"
   ]
  },
  {
   "cell_type": "code",
   "execution_count": 52,
   "id": "777721a2",
   "metadata": {},
   "outputs": [
    {
     "name": "stdout",
     "output_type": "stream",
     "text": [
      "Waze - GPS Navigation, Maps & Real-time Traffic : 345046\n",
      "Geocaching® : 12811\n",
      "ImmobilienScout24: Real Estate Search in Germany : 187\n",
      "Railway Route Search : 5\n",
      "CoPilot GPS – Car Navigation & Offline Maps : 3582\n",
      "Google Maps - Navigation & Transit : 154911\n"
     ]
    }
   ],
   "source": [
    "for row in freeApplePlayStoreDataset:\n",
    "    if row[12] == 'Navigation':\n",
    "        print(row[2], ':', row[6]) # print name and number of ratings"
   ]
  },
  {
   "cell_type": "markdown",
   "id": "5c8fa52b",
   "metadata": {},
   "source": [
    "The same pattern applies to social networking apps, where the average number is heavily influenced by a few giants like Facebook, Pinterest, Skype, etc. Same applies to music apps, where a few big players like Pandora, Spotify, and Shazam heavily influence the average number.\n",
    "\n",
    "Our aim is to find popular genres, but navigation, social networking or music apps might seem more popular than they really are. The average number of ratings seem to be skewed by very few apps which have hundreds of thousands of user ratings, while the other apps may struggle to get past the 10,000 threshold. We could get a better picture by removing these extremely popular apps for each genre and then rework the averages, but we'll leave this level of detail for later.\n",
    "\n",
    "Reference apps have 98,5920 user ratings on average, but it's actually the Bible and Dictionary.com which skew up the average rating:"
   ]
  },
  {
   "cell_type": "code",
   "execution_count": 55,
   "id": "6df364bb",
   "metadata": {},
   "outputs": [
    {
     "name": "stdout",
     "output_type": "stream",
     "text": [
      "Bible : 985920\n",
      "Dictionary.com Dictionary & Thesaurus : 200047\n",
      "Dictionary.com Dictionary & Thesaurus for iPad : 54175\n",
      "Muslim Pro: Ramadan 2017 Prayer Times, Azan, Quran : 18418\n",
      "Merriam-Webster Dictionary : 16849\n",
      "Google Translate : 26786\n",
      "Night Sky : 12122\n",
      "WWDC : 762\n",
      "Jishokun-Japanese English Dictionary & Translator : 0\n",
      "教えて!goo : 0\n",
      "VPN Express : 14\n",
      "New Furniture Mods - Pocket Wiki & Game Tools for Minecraft PC Edition : 17588\n",
      "LUCKY BLOCK MOD ™ for Minecraft PC Edition - The Best Pocket Wiki & Mods Installer Tools : 4693\n",
      "Guides for Pokémon GO - Pokemon GO News and Cheats : 826\n",
      "Horror Maps for Minecraft PE - Download The Scariest Maps for Minecraft Pocket Edition (MCPE) Free : 718\n",
      "City Maps for Minecraft PE - The Best Maps for Minecraft Pocket Edition (MCPE) : 8535\n",
      "GUNS MODS for Minecraft PC Edition - Mods Tools : 1497\n",
      "Real Bike Traffic Rider Virtual Reality Glasses : 8\n"
     ]
    }
   ],
   "source": [
    "for row in freeApplePlayStoreDataset:\n",
    "    if row[12] == 'Reference':\n",
    "        print(row[2], ':', row[6])"
   ]
  },
  {
   "cell_type": "markdown",
   "id": "c4054305",
   "metadata": {},
   "source": [
    "### Most Popular Apps by Genre on Google Play\n",
    "For the Google Play market, we actually have data about the number of installs, so we should be able to get a clearer picture about genre popularity. However, the install numbers don't seem precise enough — we can see that most values are open-ended (100+, 1,000+, 5,000+, etc.):"
   ]
  },
  {
   "cell_type": "code",
   "execution_count": 57,
   "id": "8c3f09a8",
   "metadata": {},
   "outputs": [
    {
     "name": "stdout",
     "output_type": "stream",
     "text": [
      "1,000,000+ : 1394\n",
      "100,000+ : 1024\n",
      "10,000,000+ : 935\n",
      "10,000+ : 904\n",
      "1,000+ : 744\n",
      "100+ : 613\n",
      "5,000,000+ : 605\n",
      "500,000+ : 493\n",
      "50,000+ : 423\n",
      "5,000+ : 400\n",
      "10+ : 314\n",
      "500+ : 288\n",
      "50,000,000+ : 204\n",
      "100,000,000+ : 189\n",
      "50+ : 170\n",
      "5+ : 70\n",
      "1+ : 45\n",
      "500,000,000+ : 24\n",
      "1,000,000,000+ : 20\n",
      "0+ : 4\n"
     ]
    }
   ],
   "source": [
    "displayTable(freeGoogleStoreDataset, 5) # the Installs columns"
   ]
  },
  {
   "cell_type": "markdown",
   "id": "417b935a",
   "metadata": {},
   "source": [
    "One problem with this data is that is not precise. For instance, we don't know whether an app with 100,000+ installs has 100,000 installs, 200,000, or 350,000. However, we don't need very precise data for our purposes — we only want to get an idea which app genres attract the most users, and we don't need perfect precision with respect to the number of users.\n",
    "\n",
    "We're going to leave the numbers as they are, which means that we'll consider that an app with 100,000+ installs has 100,000 installs, and an app with 1,000,000+ installs has 1,000,000 installs, and so on.\n",
    "\n",
    "To perform computations, however, we'll need to convert each install number to float — this means that we need to remove the commas and the plus characters, otherwise the conversion will fail and raise an error. We'll do this directly in the loop below, where we also compute the average number of installs for each genre (category)."
   ]
  },
  {
   "cell_type": "code",
   "execution_count": 59,
   "id": "478b0bcb",
   "metadata": {},
   "outputs": [
    {
     "name": "stdout",
     "output_type": "stream",
     "text": [
      "COMMUNICATION : 38456119.167247385\n",
      "VIDEO_PLAYERS : 24727872.452830188\n",
      "SOCIAL : 23253652.127118643\n",
      "PHOTOGRAPHY : 17840110.40229885\n",
      "PRODUCTIVITY : 16787331.344927534\n",
      "GAME : 15588015.603248259\n",
      "TRAVEL_AND_LOCAL : 13984077.710144928\n",
      "ENTERTAINMENT : 11640705.88235294\n",
      "TOOLS : 10801391.298666667\n",
      "NEWS_AND_MAGAZINES : 9549178.467741935\n",
      "BOOKS_AND_REFERENCE : 8767811.894736841\n",
      "SHOPPING : 7036877.311557789\n",
      "PERSONALIZATION : 5201482.6122448975\n",
      "WEATHER : 5074486.197183099\n",
      "HEALTH_AND_FITNESS : 4188821.9853479853\n",
      "MAPS_AND_NAVIGATION : 4056941.7741935486\n",
      "FAMILY : 3697848.1731343283\n",
      "SPORTS : 3638640.1428571427\n",
      "ART_AND_DESIGN : 1986335.0877192982\n",
      "FOOD_AND_DRINK : 1924897.7363636363\n",
      "EDUCATION : 1833495.145631068\n",
      "BUSINESS : 1712290.1474201474\n",
      "LIFESTYLE : 1437816.2687861272\n",
      "FINANCE : 1387692.475609756\n",
      "HOUSE_AND_HOME : 1331540.5616438356\n",
      "DATING : 854028.8303030303\n",
      "COMICS : 817657.2727272727\n",
      "AUTO_AND_VEHICLES : 647317.8170731707\n",
      "LIBRARIES_AND_DEMO : 638503.734939759\n",
      "PARENTING : 542603.6206896552\n",
      "BEAUTY : 513151.88679245283\n",
      "EVENTS : 253542.22222222222\n",
      "MEDICAL : 120550.61980830671\n"
     ]
    }
   ],
   "source": [
    "categoryFreqTable = frequencyTable(freeGoogleStoreDataset, 1)\n",
    "printList = []\n",
    "\n",
    "for category in categoryFreqTable:\n",
    "    \n",
    "    total = 0\n",
    "    categoryCount = 0\n",
    "    \n",
    "    for row in freeGoogleStoreDataset:\n",
    "        \n",
    "        appCategory = row[1]\n",
    "        \n",
    "        if appCategory == category:\n",
    "            \n",
    "            installs = row[5]\n",
    "            installs = installs.replace(\"+\", \"\")\n",
    "            installs = installs.replace(\",\", \"\")\n",
    "            total += float(installs)\n",
    "            categoryCount += 1\n",
    "      \n",
    "    averageInstalls = total / categoryCount\n",
    "    printList.append((averageInstalls, category))\n",
    "    listSorted = sorted(printList, reverse = True)\n",
    "\n",
    "for entry in listSorted:\n",
    "    print(entry[1], ':', entry[0])          "
   ]
  },
  {
   "cell_type": "markdown",
   "id": "0c45a662",
   "metadata": {},
   "source": [
    "On average, communication apps have the most installs: 38,456,119. This number is heavily skewed up by a few apps that have over one billion installs (WhatsApp, Facebook Messenger, Skype, Google Chrome, Gmail, and Hangouts), and a few others with over 100 and 500 million installs:"
   ]
  },
  {
   "cell_type": "code",
   "execution_count": 61,
   "id": "d8366356",
   "metadata": {},
   "outputs": [
    {
     "name": "stdout",
     "output_type": "stream",
     "text": [
      "WhatsApp Messenger : 1,000,000,000+\n",
      "imo beta free calls and text : 100,000,000+\n",
      "Android Messages : 100,000,000+\n",
      "Google Duo - High Quality Video Calls : 500,000,000+\n",
      "Messenger – Text and Video Chat for Free : 1,000,000,000+\n",
      "imo free video calls and chat : 500,000,000+\n",
      "Skype - free IM & video calls : 1,000,000,000+\n",
      "Who : 100,000,000+\n",
      "GO SMS Pro - Messenger, Free Themes, Emoji : 100,000,000+\n",
      "LINE: Free Calls & Messages : 500,000,000+\n",
      "Google Chrome: Fast & Secure : 1,000,000,000+\n",
      "Firefox Browser fast & private : 100,000,000+\n",
      "UC Browser - Fast Download Private & Secure : 500,000,000+\n",
      "Gmail : 1,000,000,000+\n",
      "Hangouts : 1,000,000,000+\n",
      "Messenger Lite: Free Calls & Messages : 100,000,000+\n",
      "Kik : 100,000,000+\n",
      "KakaoTalk: Free Calls & Text : 100,000,000+\n",
      "Opera Mini - fast web browser : 100,000,000+\n",
      "Opera Browser: Fast and Secure : 100,000,000+\n",
      "Telegram : 100,000,000+\n",
      "Truecaller: Caller ID, SMS spam blocking & Dialer : 100,000,000+\n",
      "UC Browser Mini -Tiny Fast Private & Secure : 100,000,000+\n",
      "Viber Messenger : 500,000,000+\n",
      "WeChat : 100,000,000+\n",
      "Yahoo Mail – Stay Organized : 100,000,000+\n",
      "BBM - Free Calls & Messages : 100,000,000+\n"
     ]
    }
   ],
   "source": [
    "for row in freeGoogleStoreDataset:\n",
    "    if row[1] == 'COMMUNICATION' and (row[5] == '1,000,000,000+'\n",
    "                                      or row[5] == '500,000,000+'\n",
    "                                      or row[5] == '100,000,000+'):\n",
    "        print(row[0], ':', row[5])"
   ]
  },
  {
   "cell_type": "markdown",
   "id": "3f1f905a",
   "metadata": {},
   "source": [
    "If we removed all the communication apps that have over 100 million installs, the average would be reduced roughly ten times:"
   ]
  },
  {
   "cell_type": "code",
   "execution_count": 66,
   "id": "e9586b24",
   "metadata": {},
   "outputs": [
    {
     "data": {
      "text/plain": [
       "3603485.3884615386"
      ]
     },
     "execution_count": 66,
     "metadata": {},
     "output_type": "execute_result"
    }
   ],
   "source": [
    "under100M = []\n",
    "\n",
    "for row in freeGoogleStoreDataset:\n",
    "    installsCount = row[5]\n",
    "    installsCount = installsCount.replace(',', '')\n",
    "    installsCount = installsCount.replace('+', '')\n",
    "    if (row[1] == 'COMMUNICATION') and (float(installsCount) < 100000000):\n",
    "        under100M.append(float(installsCount))\n",
    "        \n",
    "sum(under100M) / len(under100M)"
   ]
  },
  {
   "cell_type": "markdown",
   "id": "332ae06e",
   "metadata": {},
   "source": [
    "We see the same pattern for the video players category, which is the runner-up with 24,727,872 installs. The market is dominated by apps like Youtube, Google Play Movies & TV, or MX Player. The pattern is repeated for social apps (where we have giants like Facebook, Instagram, Google+, etc.), photography apps (Google Photos and other popular photo editors), or productivity apps (Microsoft Word, Dropbox, Google Calendar, Evernote, etc.).\n",
    "\n",
    "Again, the main concern is that these app genres might seem more popular than they really are. Moreover, these niches seem to be dominated by a few giants who are hard to compete against.\n",
    "\n",
    "The game genre seems pretty popular, but previously we found out this part of the market seems a bit saturated, so we'd like to come up with a different app recommendation if possible.\n",
    "\n",
    "The books and reference genre looks fairly popular as well, with an average number of installs of 8,767,811. It's interesting to explore this in more depth, since we found this genre has some potential to work well on the App Store, and our aim is to recommend an app genre that shows potential for being profitable on both the App Store and Google Play.\n",
    "\n",
    "Let's take a look at some of the apps from this genre and their number of installs:"
   ]
  },
  {
   "cell_type": "code",
   "execution_count": 69,
   "id": "3a7310e1",
   "metadata": {},
   "outputs": [
    {
     "name": "stdout",
     "output_type": "stream",
     "text": [
      "E-Book Read - Read Book for free : 50,000+\n",
      "Download free book with green book : 100,000+\n",
      "Wikipedia : 10,000,000+\n",
      "Cool Reader : 10,000,000+\n",
      "Free Panda Radio Music : 100,000+\n",
      "Book store : 1,000,000+\n",
      "FBReader: Favorite Book Reader : 10,000,000+\n",
      "English Grammar Complete Handbook : 500,000+\n",
      "Free Books - Spirit Fanfiction and Stories : 1,000,000+\n",
      "Google Play Books : 1,000,000,000+\n",
      "AlReader -any text book reader : 5,000,000+\n",
      "Offline English Dictionary : 100,000+\n",
      "Offline: English to Tagalog Dictionary : 500,000+\n",
      "FamilySearch Tree : 1,000,000+\n",
      "Cloud of Books : 1,000,000+\n",
      "Recipes of Prophetic Medicine for free : 500,000+\n",
      "ReadEra – free ebook reader : 1,000,000+\n",
      "Anonymous caller detection : 10,000+\n",
      "Ebook Reader : 5,000,000+\n",
      "Litnet - E-books : 100,000+\n",
      "Read books online : 5,000,000+\n",
      "English to Urdu Dictionary : 500,000+\n",
      "eBoox: book reader fb2 epub zip : 1,000,000+\n",
      "English Persian Dictionary : 500,000+\n",
      "Flybook : 500,000+\n",
      "All Maths Formulas : 1,000,000+\n",
      "Ancestry : 5,000,000+\n",
      "HTC Help : 10,000,000+\n",
      "English translation from Bengali : 100,000+\n",
      "Pdf Book Download - Read Pdf Book : 100,000+\n",
      "Free Book Reader : 100,000+\n",
      "eBoox new: Reader for fb2 epub zip books : 50,000+\n",
      "Only 30 days in English, the guideline is guaranteed : 500,000+\n",
      "Moon+ Reader : 10,000,000+\n",
      "SH-02J Owner's Manual (Android 8.0) : 50,000+\n",
      "English-Myanmar Dictionary : 1,000,000+\n",
      "Golden Dictionary (EN-AR) : 1,000,000+\n",
      "All Language Translator Free : 1,000,000+\n",
      "Azpen eReader : 500,000+\n",
      "URBANO V 02 instruction manual : 100,000+\n",
      "Bible : 100,000,000+\n",
      "C Programs and Reference : 50,000+\n",
      "C Offline Tutorial : 1,000+\n",
      "C Programs Handbook : 50,000+\n",
      "Amazon Kindle : 100,000,000+\n",
      "Aab e Hayat Full Novel : 100,000+\n",
      "Aldiko Book Reader : 10,000,000+\n",
      "Google I/O 2018 : 500,000+\n",
      "R Language Reference Guide : 10,000+\n",
      "Learn R Programming Full : 5,000+\n",
      "R Programing Offline Tutorial : 1,000+\n",
      "Guide for R Programming : 5+\n",
      "Learn R Programming : 10+\n",
      "R Quick Reference Big Data : 1,000+\n",
      "V Made : 100,000+\n",
      "Wattpad 📖 Free Books : 100,000,000+\n",
      "Dictionary - WordWeb : 5,000,000+\n",
      "Guide (for X-MEN) : 100,000+\n",
      "AC Air condition Troubleshoot,Repair,Maintenance : 5,000+\n",
      "AE Bulletins : 1,000+\n",
      "Ae Allah na Dai (Rasa) : 10,000+\n",
      "50000 Free eBooks & Free AudioBooks : 5,000,000+\n",
      "Ag PhD Field Guide : 10,000+\n",
      "Ag PhD Deficiencies : 10,000+\n",
      "Ag PhD Planting Population Calculator : 1,000+\n",
      "Ag PhD Soybean Diseases : 1,000+\n",
      "Fertilizer Removal By Crop : 50,000+\n",
      "A-J Media Vault : 50+\n",
      "Al-Quran (Free) : 10,000,000+\n",
      "Al Quran (Tafsir & by Word) : 500,000+\n",
      "Al Quran Indonesia : 10,000,000+\n",
      "Al'Quran Bahasa Indonesia : 10,000,000+\n",
      "Al Quran Al karim : 1,000,000+\n",
      "Al-Muhaffiz : 50,000+\n",
      "Al Quran : EAlim - Translations & MP3 Offline : 5,000,000+\n",
      "Al-Quran 30 Juz free copies : 500,000+\n",
      "Koran Read &MP3 30 Juz Offline : 1,000,000+\n",
      "Hafizi Quran 15 lines per page : 1,000,000+\n",
      "Quran for Android : 10,000,000+\n",
      "Surah Al-Waqiah : 100,000+\n",
      "Hisnul Al Muslim - Hisn Invocations & Adhkaar : 100,000+\n",
      "Satellite AR : 1,000,000+\n",
      "Audiobooks from Audible : 100,000,000+\n",
      "Kinot & Eichah for Tisha B'Av : 10,000+\n",
      "AW Tozer Devotionals - Daily : 5,000+\n",
      "Tozer Devotional -Series 1 : 1,000+\n",
      "The Pursuit of God : 1,000+\n",
      "AY Sing : 5,000+\n",
      "Ay Hasnain k Nana Milad Naat : 10,000+\n",
      "Ay Mohabbat Teri Khatir Novel : 10,000+\n",
      "Arizona Statutes, ARS (AZ Law) : 1,000+\n",
      "Oxford A-Z of English Usage : 1,000,000+\n",
      "BD Fishpedia : 1,000+\n",
      "BD All Sim Offer : 10,000+\n",
      "Youboox - Livres, BD et magazines : 500,000+\n",
      "B&H Kids AR : 10,000+\n",
      "B y H Niños ES : 5,000+\n",
      "Dictionary.com: Find Definitions for English Words : 10,000,000+\n",
      "English Dictionary - Offline : 10,000,000+\n",
      "Bible KJV : 5,000,000+\n",
      "Borneo Bible, BM Bible : 10,000+\n",
      "MOD Black for BM : 100+\n",
      "BM Box : 1,000+\n",
      "Anime Mod for BM : 100+\n",
      "NOOK: Read eBooks & Magazines : 10,000,000+\n",
      "NOOK Audiobooks : 500,000+\n",
      "NOOK App for NOOK Devices : 500,000+\n",
      "Browsery by Barnes & Noble : 5,000+\n",
      "bp e-store : 1,000+\n",
      "Brilliant Quotes: Life, Love, Family & Motivation : 1,000,000+\n",
      "BR Ambedkar Biography & Quotes : 10,000+\n",
      "BU Alsace : 100+\n",
      "Catholic La Bu Zo Kam : 500+\n",
      "Khrifa Hla Bu (Solfa) : 10+\n",
      "Kristian Hla Bu : 10,000+\n",
      "SA HLA BU : 1,000+\n",
      "Learn SAP BW : 500+\n",
      "Learn SAP BW on HANA : 500+\n",
      "CA Laws 2018 (California Laws and Codes) : 5,000+\n",
      "Bootable Methods(USB-CD-DVD) : 10,000+\n",
      "cloudLibrary : 100,000+\n",
      "SDA Collegiate Quarterly : 500+\n",
      "Sabbath School : 100,000+\n",
      "Cypress College Library : 100+\n",
      "Stats Royale for Clash Royale : 1,000,000+\n",
      "GATE 21 years CS Papers(2011-2018 Solved) : 50+\n",
      "Learn CT Scan Of Head : 5,000+\n",
      "Easy Cv maker 2018 : 10,000+\n",
      "How to Write CV : 100,000+\n",
      "CW Nuclear : 1,000+\n",
      "CY Spray nozzle : 10+\n",
      "BibleRead En Cy Zh Yue : 5+\n",
      "CZ-Help : 5+\n",
      "Modlitební knížka CZ : 500+\n",
      "Guide for DB Xenoverse : 10,000+\n",
      "Guide for DB Xenoverse 2 : 10,000+\n",
      "Guide for IMS DB : 10+\n",
      "DC HSEMA : 5,000+\n",
      "DC Public Library : 1,000+\n",
      "Painting Lulu DC Super Friends : 1,000+\n",
      "Dictionary : 10,000,000+\n",
      "Fix Error Google Playstore : 1,000+\n",
      "D. H. Lawrence Poems FREE : 1,000+\n",
      "Bilingual Dictionary Audio App : 5,000+\n",
      "DM Screen : 10,000+\n",
      "wikiHow: how to do anything : 1,000,000+\n",
      "Dr. Doug's Tips : 1,000+\n",
      "Bible du Semeur-BDS (French) : 50,000+\n",
      "La citadelle du musulman : 50,000+\n",
      "DV 2019 Entry Guide : 10,000+\n",
      "DV 2019 - EDV Photo & Form : 50,000+\n",
      "DV 2018 Winners Guide : 1,000+\n",
      "EB Annual Meetings : 1,000+\n",
      "EC - AP & Telangana : 5,000+\n",
      "TN Patta Citta & EC : 10,000+\n",
      "AP Stamps and Registration : 10,000+\n",
      "CompactiMa EC pH Calibration : 100+\n",
      "EGW Writings 2 : 100,000+\n",
      "EGW Writings : 1,000,000+\n",
      "Bible with EGW Comments : 100,000+\n",
      "My Little Pony AR Guide : 1,000,000+\n",
      "SDA Sabbath School Quarterly : 500,000+\n",
      "Duaa Ek Ibaadat : 5,000+\n",
      "Spanish English Translator : 10,000,000+\n",
      "Dictionary - Merriam-Webster : 10,000,000+\n",
      "JW Library : 10,000,000+\n",
      "Oxford Dictionary of English : Free : 10,000,000+\n",
      "English Hindi Dictionary : 10,000,000+\n",
      "English to Hindi Dictionary : 5,000,000+\n",
      "EP Research Service : 1,000+\n",
      "Hymnes et Louanges : 100,000+\n",
      "EU Charter : 1,000+\n",
      "EU Data Protection : 1,000+\n",
      "EU IP Codes : 100+\n",
      "EW PDF : 5+\n",
      "BakaReader EX : 100,000+\n",
      "EZ Quran : 50,000+\n",
      "FA Part 1 & 2 Past Papers Solved Free – Offline : 5,000+\n",
      "La Fe de Jesus : 1,000+\n",
      "La Fe de Jesús : 500+\n",
      "Le Fe de Jesus : 500+\n",
      "Florida - Pocket Brainbook : 1,000+\n",
      "Florida Statutes (FL Code) : 1,000+\n",
      "English To Shona Dictionary : 10,000+\n",
      "Greek Bible FP (Audio) : 1,000+\n",
      "Golden Dictionary (FR-AR) : 500,000+\n",
      "Fanfic-FR : 5,000+\n",
      "Bulgarian French Dictionary Fr : 10,000+\n",
      "Chemin (fr) : 1,000+\n",
      "The SCP Foundation DB fr nn5n : 1,000+\n"
     ]
    }
   ],
   "source": [
    "for row in freeGoogleStoreDataset:\n",
    "    if row[1] == 'BOOKS_AND_REFERENCE':\n",
    "        print(row[0], ':', row[5])\n"
   ]
  },
  {
   "cell_type": "markdown",
   "id": "aeb97a72",
   "metadata": {},
   "source": [
    "The book and reference genre includes a variety of apps: software for processing and reading ebooks, various collections of libraries, dictionaries, tutorials on programming or languages, etc. It seems there's still a small number of extremely popular apps that skew the average:"
   ]
  },
  {
   "cell_type": "code",
   "execution_count": 71,
   "id": "c94bcd06",
   "metadata": {},
   "outputs": [
    {
     "name": "stdout",
     "output_type": "stream",
     "text": [
      "Google Play Books : 1,000,000,000+\n",
      "Bible : 100,000,000+\n",
      "Amazon Kindle : 100,000,000+\n",
      "Wattpad 📖 Free Books : 100,000,000+\n",
      "Audiobooks from Audible : 100,000,000+\n"
     ]
    }
   ],
   "source": [
    "for row in freeGoogleStoreDataset:\n",
    "    if row[1] == 'BOOKS_AND_REFERENCE' and (row[5] == '1,000,000,000+'\n",
    "                                            or row[5] == '500,000,000+'\n",
    "                                            or row[5] == '100,000,000+'):\n",
    "        print(row[0], ':', row[5])"
   ]
  },
  {
   "cell_type": "markdown",
   "id": "14d5ee04",
   "metadata": {},
   "source": [
    "However, it looks like there are only a few very popular apps, so this market still shows potential. Let's try to get some app ideas based on the kind of apps that are somewhere in the middle in terms of popularity (between 1,000,000 and 100,000,000 downloads):"
   ]
  },
  {
   "cell_type": "code",
   "execution_count": 73,
   "id": "ae0b3e47",
   "metadata": {},
   "outputs": [
    {
     "name": "stdout",
     "output_type": "stream",
     "text": [
      "Wikipedia : 10,000,000+\n",
      "Cool Reader : 10,000,000+\n",
      "Book store : 1,000,000+\n",
      "FBReader: Favorite Book Reader : 10,000,000+\n",
      "Free Books - Spirit Fanfiction and Stories : 1,000,000+\n",
      "AlReader -any text book reader : 5,000,000+\n",
      "FamilySearch Tree : 1,000,000+\n",
      "Cloud of Books : 1,000,000+\n",
      "ReadEra – free ebook reader : 1,000,000+\n",
      "Ebook Reader : 5,000,000+\n",
      "Read books online : 5,000,000+\n",
      "eBoox: book reader fb2 epub zip : 1,000,000+\n",
      "All Maths Formulas : 1,000,000+\n",
      "Ancestry : 5,000,000+\n",
      "HTC Help : 10,000,000+\n",
      "Moon+ Reader : 10,000,000+\n",
      "English-Myanmar Dictionary : 1,000,000+\n",
      "Golden Dictionary (EN-AR) : 1,000,000+\n",
      "All Language Translator Free : 1,000,000+\n",
      "Aldiko Book Reader : 10,000,000+\n",
      "Dictionary - WordWeb : 5,000,000+\n",
      "50000 Free eBooks & Free AudioBooks : 5,000,000+\n",
      "Al-Quran (Free) : 10,000,000+\n",
      "Al Quran Indonesia : 10,000,000+\n",
      "Al'Quran Bahasa Indonesia : 10,000,000+\n",
      "Al Quran Al karim : 1,000,000+\n",
      "Al Quran : EAlim - Translations & MP3 Offline : 5,000,000+\n",
      "Koran Read &MP3 30 Juz Offline : 1,000,000+\n",
      "Hafizi Quran 15 lines per page : 1,000,000+\n",
      "Quran for Android : 10,000,000+\n",
      "Satellite AR : 1,000,000+\n",
      "Oxford A-Z of English Usage : 1,000,000+\n",
      "Dictionary.com: Find Definitions for English Words : 10,000,000+\n",
      "English Dictionary - Offline : 10,000,000+\n",
      "Bible KJV : 5,000,000+\n",
      "NOOK: Read eBooks & Magazines : 10,000,000+\n",
      "Brilliant Quotes: Life, Love, Family & Motivation : 1,000,000+\n",
      "Stats Royale for Clash Royale : 1,000,000+\n",
      "Dictionary : 10,000,000+\n",
      "wikiHow: how to do anything : 1,000,000+\n",
      "EGW Writings : 1,000,000+\n",
      "My Little Pony AR Guide : 1,000,000+\n",
      "Spanish English Translator : 10,000,000+\n",
      "Dictionary - Merriam-Webster : 10,000,000+\n",
      "JW Library : 10,000,000+\n",
      "Oxford Dictionary of English : Free : 10,000,000+\n",
      "English Hindi Dictionary : 10,000,000+\n",
      "English to Hindi Dictionary : 5,000,000+\n"
     ]
    }
   ],
   "source": [
    "for row in freeGoogleStoreDataset:\n",
    "    if row[1] == 'BOOKS_AND_REFERENCE' and (row[5] == '1,000,000+'\n",
    "                                            or row[5] == '5,000,000+'\n",
    "                                            or row[5] == '10,000,000+'\n",
    "                                            or row[5] == '50,000,000+'):\n",
    "        print(row[0], ':', row[5])"
   ]
  },
  {
   "cell_type": "markdown",
   "id": "69370601",
   "metadata": {},
   "source": [
    "This niche seems to be dominated by software for processing and reading ebooks, as well as various collections of libraries and dictionaries, so it's probably not a good idea to build similar apps since there'll be some significant competition.\n",
    "\n",
    "We also notice there are quite a few apps built around the book Quran, which suggests that building an app around a popular book can be profitable. It seems that taking a popular book (perhaps a more recent book) and turning it into an app could be profitable for both the Google Play and the App Store markets.\n",
    "\n",
    "However, it looks like the market is already full of libraries, so we need to add some special features besides the raw version of the book. This might include daily quotes from the book, an audio version of the book, quizzes on the book, a forum where people can discuss the book, etc.\n",
    "\n",
    "## Conclusions\n",
    "\n",
    "In this project, we analyzed data about the App Store and Google Play mobile apps with the goal of recommending an app profile that can be profitable for both markets.\n",
    "\n",
    "We concluded that taking a popular book (perhaps a more recent book) and turning it into an app could be profitable for both the Google Play and the App Store markets. The markets are already full of libraries, so we need to add some special features besides the raw version of the book. This might include daily quotes from the book, an audio version of the book, quizzes on the book, a forum where people can discuss the book, etc."
   ]
  }
 ],
 "metadata": {
  "kernelspec": {
   "display_name": "Python 3 (ipykernel)",
   "language": "python",
   "name": "python3"
  },
  "language_info": {
   "codemirror_mode": {
    "name": "ipython",
    "version": 3
   },
   "file_extension": ".py",
   "mimetype": "text/x-python",
   "name": "python",
   "nbconvert_exporter": "python",
   "pygments_lexer": "ipython3",
   "version": "3.9.13"
  }
 },
 "nbformat": 4,
 "nbformat_minor": 5
}
